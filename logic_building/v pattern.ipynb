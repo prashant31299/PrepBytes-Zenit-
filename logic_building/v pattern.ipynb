{
 "cells": [
  {
   "cell_type": "code",
   "execution_count": 16,
   "id": "3314f6f2-4f2f-44eb-9b84-3bf78359be9c",
   "metadata": {},
   "outputs": [
    {
     "name": "stdout",
     "output_type": "stream",
     "text": [
      "1        1\n",
      "12      21\n",
      "123    321\n",
      "1234  4321\n",
      "1234554321\n"
     ]
    }
   ],
   "source": [
    "# print v pattern \n",
    "# 12        21\n",
    "# 123     321\n",
    "# 1234  4321\n",
    "# 1234554321\n",
    "# n=int(input)\n",
    "space=8\n",
    "for i in range(1,6):\n",
    "    for j in range(1,i+1):\n",
    "        print(j,end='')\n",
    "        \n",
    "    for k in range(1,space+1):\n",
    "        print(end=' ')\n",
    "    space =space-2\n",
    "    \n",
    "    for j in range(i,0,-1):\n",
    "        print(j,end='')\n",
    "    print()\n",
    "    "
   ]
  },
  {
   "cell_type": "code",
   "execution_count": 17,
   "id": "3b691b3f-53c4-40f0-81b2-bc6514b7ab9a",
   "metadata": {},
   "outputs": [
    {
     "data": {
      "text/plain": [
       "0"
      ]
     },
     "execution_count": 17,
     "metadata": {},
     "output_type": "execute_result"
    }
   ],
   "source": [
    "3//10\n"
   ]
  },
  {
   "cell_type": "code",
   "execution_count": 18,
   "id": "6a2c05f9-52ef-4dcf-9491-9014cc9fb6f1",
   "metadata": {},
   "outputs": [
    {
     "data": {
      "text/plain": [
       "1"
      ]
     },
     "execution_count": 18,
     "metadata": {},
     "output_type": "execute_result"
    }
   ],
   "source": [
    "1%10\n"
   ]
  },
  {
   "cell_type": "code",
   "execution_count": null,
   "id": "b183bc97-9246-4730-837c-f34e8bd126bb",
   "metadata": {},
   "outputs": [],
   "source": []
  }
 ],
 "metadata": {
  "kernelspec": {
   "display_name": "Python 3 (ipykernel)",
   "language": "python",
   "name": "python3"
  },
  "language_info": {
   "codemirror_mode": {
    "name": "ipython",
    "version": 3
   },
   "file_extension": ".py",
   "mimetype": "text/x-python",
   "name": "python",
   "nbconvert_exporter": "python",
   "pygments_lexer": "ipython3",
   "version": "3.9.7"
  }
 },
 "nbformat": 4,
 "nbformat_minor": 5
}
