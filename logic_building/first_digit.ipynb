{
 "cells": [
  {
   "cell_type": "code",
   "execution_count": 2,
   "id": "0afda914-2303-4441-a50e-e001a1d4e99e",
   "metadata": {},
   "outputs": [
    {
     "name": "stdin",
     "output_type": "stream",
     "text": [
      " 34787654\n"
     ]
    },
    {
     "name": "stdout",
     "output_type": "stream",
     "text": [
      "3\n"
     ]
    }
   ],
   "source": [
    "# #first digit of Numbetr \n",
    "# n=343434\n",
    "# o/p= 3\n",
    "\n",
    "\n",
    "n=int(input())\n",
    "rem=0\n",
    "while(n>0):\n",
    "    rem=n%10\n",
    "    n=n//10\n",
    "    \n",
    "print(rem)"
   ]
  },
  {
   "cell_type": "code",
   "execution_count": 4,
   "id": "1f8e9ab6-52c3-40ec-9232-4af2a64e53d5",
   "metadata": {},
   "outputs": [
    {
     "name": "stdout",
     "output_type": "stream",
     "text": [
      "234\n"
     ]
    }
   ],
   "source": [
    "print(2342//10)"
   ]
  },
  {
   "cell_type": "code",
   "execution_count": 7,
   "id": "710a469a-f6d5-4b73-83c0-5e871fadaaf1",
   "metadata": {},
   "outputs": [
    {
     "data": {
      "text/plain": [
       "32"
      ]
     },
     "execution_count": 7,
     "metadata": {},
     "output_type": "execute_result"
    }
   ],
   "source": [
    "322//10"
   ]
  },
  {
   "cell_type": "code",
   "execution_count": null,
   "id": "2c1ef8a3-101a-45ba-96bd-70d0ebfa0c5f",
   "metadata": {},
   "outputs": [],
   "source": []
  }
 ],
 "metadata": {
  "kernelspec": {
   "display_name": "Python 3 (ipykernel)",
   "language": "python",
   "name": "python3"
  },
  "language_info": {
   "codemirror_mode": {
    "name": "ipython",
    "version": 3
   },
   "file_extension": ".py",
   "mimetype": "text/x-python",
   "name": "python",
   "nbconvert_exporter": "python",
   "pygments_lexer": "ipython3",
   "version": "3.9.7"
  }
 },
 "nbformat": 4,
 "nbformat_minor": 5
}
