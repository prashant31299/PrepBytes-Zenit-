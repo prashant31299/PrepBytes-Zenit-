{
 "cells": [
  {
   "cell_type": "code",
   "execution_count": 6,
   "id": "db68a4b9-4bb6-46ee-a80d-fb4756020b4e",
   "metadata": {},
   "outputs": [
    {
     "name": "stdin",
     "output_type": "stream",
     "text": [
      " 3\n",
      " 1900\n"
     ]
    },
    {
     "name": "stdout",
     "output_type": "stream",
     "text": [
      "no\n"
     ]
    },
    {
     "name": "stdin",
     "output_type": "stream",
     "text": [
      " 1700\n"
     ]
    },
    {
     "name": "stdout",
     "output_type": "stream",
     "text": [
      "no\n"
     ]
    },
    {
     "name": "stdin",
     "output_type": "stream",
     "text": [
      " 1600\n"
     ]
    },
    {
     "name": "stdout",
     "output_type": "stream",
     "text": [
      "yes\n"
     ]
    }
   ],
   "source": [
    "def leapyear(year):\n",
    "    if year % 4==0:\n",
    "        if year %100==0:\n",
    "            if year % 400==0:\n",
    "                print('yes')\n",
    "            else:\n",
    "                print('no')\n",
    "        else:\n",
    "            print('yes')\n",
    "    else:\n",
    "        print('no')\n",
    "\n",
    "for _ in range(int(input())):\n",
    "    \n",
    "    leapyear(int(input()))"
   ]
  },
  {
   "cell_type": "code",
   "execution_count": 12,
   "id": "3549f756-92cf-4b36-a116-ef5ea28ee8a9",
   "metadata": {},
   "outputs": [
    {
     "name": "stdin",
     "output_type": "stream",
     "text": [
      " 2004\n"
     ]
    },
    {
     "name": "stdout",
     "output_type": "stream",
     "text": [
      "leap year\n"
     ]
    }
   ],
   "source": [
    "n=int(input())\n",
    "if (n %400==0 ) & (n%100==0):\n",
    "    print('leap year')\n",
    "elif(n%4==0) & (n%100 !=0):\n",
    "    print('leap year')\n",
    "else:\n",
    "    print(' not leap year')\n"
   ]
  },
  {
   "cell_type": "code",
   "execution_count": null,
   "id": "f95ce56d-f148-488e-bf90-f8ba73252ec9",
   "metadata": {},
   "outputs": [],
   "source": []
  }
 ],
 "metadata": {
  "kernelspec": {
   "display_name": "Python 3 (ipykernel)",
   "language": "python",
   "name": "python3"
  },
  "language_info": {
   "codemirror_mode": {
    "name": "ipython",
    "version": 3
   },
   "file_extension": ".py",
   "mimetype": "text/x-python",
   "name": "python",
   "nbconvert_exporter": "python",
   "pygments_lexer": "ipython3",
   "version": "3.9.7"
  }
 },
 "nbformat": 4,
 "nbformat_minor": 5
}
