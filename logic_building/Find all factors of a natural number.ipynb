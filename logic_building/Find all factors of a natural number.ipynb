{
 "cells": [
  {
   "cell_type": "code",
   "execution_count": 31,
   "id": "23ee62c5-b4ef-40dd-a3b0-1e2fb1bdfb14",
   "metadata": {},
   "outputs": [
    {
     "name": "stdout",
     "output_type": "stream",
     "text": [
      "1\n",
      "2\n",
      "3\n",
      "True\n"
     ]
    }
   ],
   "source": [
    "#  print all the divisors of natural number \n",
    "#  Input : n = 10       \n",
    "#  Output: 1 2 5 10\n",
    "\n",
    "#  Input:  n = 100\n",
    "#  Output: 1 2 4 5 10 20 25 50 100\n",
    "\n",
    "#  Input:  n = 125\n",
    "#  Output: 1 5 25 125\n",
    "\n",
    "def divisor(num):\n",
    "    s=0\n",
    "    i=1\n",
    "    while i<num:\n",
    "        if (num%i==0):\n",
    "            print(i)\n",
    "            s=s+i\n",
    "        i=i+1\n",
    "    print(s==num)\n",
    "divisor(6)\n",
    "            "
   ]
  },
  {
   "cell_type": "code",
   "execution_count": 27,
   "id": "cc5dbb52-4086-49da-8307-211eb965ac44",
   "metadata": {},
   "outputs": [
    {
     "name": "stdout",
     "output_type": "stream",
     "text": [
      "The divisors of 100 are: \n",
      "1 2 4 5 10 20 25 50 100 "
     ]
    }
   ],
   "source": [
    "# Python implementation of Naive method\n",
    "# to print all divisors\n",
    "\n",
    "# method to print the divisors\n",
    "def printDivisors(n) :\n",
    "\ti = 1\n",
    "\twhile i <= n :\n",
    "\t\tif (n % i==0) :\n",
    "\t\t\tprint (i,end=\" \")\n",
    "\t\ti = i + 1\n",
    "\t\t\n",
    "# Driver method\n",
    "print (\"The divisors of 100 are: \")\n",
    "printDivisors(100)\n",
    "\n",
    "#This code is contributed by Nikita Tiwari.\n"
   ]
  },
  {
   "cell_type": "code",
   "execution_count": null,
   "id": "0eb1aa80-869f-4ba2-8e26-0d4fddeba212",
   "metadata": {},
   "outputs": [],
   "source": []
  },
  {
   "cell_type": "code",
   "execution_count": null,
   "id": "9095c99c-2b1c-4e6e-9a23-34acce3bf3ff",
   "metadata": {},
   "outputs": [],
   "source": []
  }
 ],
 "metadata": {
  "kernelspec": {
   "display_name": "Python 3 (ipykernel)",
   "language": "python",
   "name": "python3"
  },
  "language_info": {
   "codemirror_mode": {
    "name": "ipython",
    "version": 3
   },
   "file_extension": ".py",
   "mimetype": "text/x-python",
   "name": "python",
   "nbconvert_exporter": "python",
   "pygments_lexer": "ipython3",
   "version": "3.9.7"
  }
 },
 "nbformat": 4,
 "nbformat_minor": 5
}
