{
 "cells": [
  {
   "cell_type": "code",
   "execution_count": 1,
   "id": "f81b8a5d-a56a-4ff4-b911-2850504bf0c9",
   "metadata": {},
   "outputs": [
    {
     "name": "stdout",
     "output_type": "stream",
     "text": [
      "54321\n"
     ]
    }
   ],
   "source": [
    "# reverce the number ?\n",
    "\n",
    "def reverceNum(num):\n",
    "    res=0\n",
    "    while num:\n",
    "        remainder=num%10\n",
    "        num=num//10\n",
    "        res=res*10+remainder\n",
    "    return res\n",
    "n=12345\n",
    "print(reverceNum(n))"
   ]
  },
  {
   "cell_type": "code",
   "execution_count": 10,
   "id": "ddf6cd27-95d5-415e-9462-f5e92680ed83",
   "metadata": {},
   "outputs": [
    {
     "name": "stdout",
     "output_type": "stream",
     "text": [
      "4321\n"
     ]
    }
   ],
   "source": [
    "def rev(n):\n",
    "    res=0\n",
    "    while n:\n",
    "        remainder=n%10\n",
    "        n=n//10\n",
    "        res=res*10+remainder\n",
    "    return res\n",
    "print(rev(1234))"
   ]
  },
  {
   "cell_type": "code",
   "execution_count": null,
   "id": "4ee69504-da82-485c-9906-187e0415f350",
   "metadata": {},
   "outputs": [],
   "source": []
  },
  {
   "cell_type": "code",
   "execution_count": null,
   "id": "592729f5-391a-4381-b435-f16eae784688",
   "metadata": {},
   "outputs": [],
   "source": []
  }
 ],
 "metadata": {
  "kernelspec": {
   "display_name": "Python 3 (ipykernel)",
   "language": "python",
   "name": "python3"
  },
  "language_info": {
   "codemirror_mode": {
    "name": "ipython",
    "version": 3
   },
   "file_extension": ".py",
   "mimetype": "text/x-python",
   "name": "python",
   "nbconvert_exporter": "python",
   "pygments_lexer": "ipython3",
   "version": "3.9.7"
  }
 },
 "nbformat": 4,
 "nbformat_minor": 5
}
