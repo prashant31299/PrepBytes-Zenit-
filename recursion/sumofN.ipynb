{
 "cells": [
  {
   "cell_type": "code",
   "execution_count": 2,
   "metadata": {},
   "outputs": [
    {
     "data": {
      "text/plain": [
       "15"
      ]
     },
     "execution_count": 2,
     "metadata": {},
     "output_type": "execute_result"
    }
   ],
   "source": [
    "# print the sum of n number using reacurtion \n",
    "\n",
    "def sumN(n):\n",
    "    if n==0 or n==1:\n",
    "        return 1\n",
    "    return n + sumN(n-1)\n",
    "\n",
    "sumN(5)"
   ]
  },
  {
   "cell_type": "code",
   "execution_count": null,
   "metadata": {},
   "outputs": [],
   "source": []
  }
 ],
 "metadata": {
  "kernelspec": {
   "display_name": "Python 3.9.7 ('base')",
   "language": "python",
   "name": "python3"
  },
  "language_info": {
   "codemirror_mode": {
    "name": "ipython",
    "version": 3
   },
   "file_extension": ".py",
   "mimetype": "text/x-python",
   "name": "python",
   "nbconvert_exporter": "python",
   "pygments_lexer": "ipython3",
   "version": "3.9.7"
  },
  "orig_nbformat": 4,
  "vscode": {
   "interpreter": {
    "hash": "84129655c039cdc609eff4947a443e18daa48d29053ccc3d8283615438a60ab8"
   }
  }
 },
 "nbformat": 4,
 "nbformat_minor": 2
}
