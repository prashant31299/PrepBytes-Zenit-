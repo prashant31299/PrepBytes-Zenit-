{
 "cells": [
  {
   "cell_type": "code",
   "execution_count": 9,
   "metadata": {},
   "outputs": [
    {
     "name": "stdout",
     "output_type": "stream",
     "text": [
      "0 0 0 \n",
      "0 0 1 \n",
      "0 1 0 \n",
      "1 0 0 \n"
     ]
    }
   ],
   "source": [
    "\n",
    "def binary(n,prev ,output,i):\n",
    "    if n==0:\n",
    "        for j in range(len(output)):\n",
    "            print(output[j],end =' ')\n",
    "        print()\n",
    "        return\n",
    "    if prev==0 or prev==-1:\n",
    "        output[i]=0\n",
    "        binary(n-1,0,output,i+1)\n",
    "        output[i]=1\n",
    "        binary(n-1,1,output,i+1)\n",
    "    \n",
    "    else:\n",
    "        output[i]=0\n",
    "        binary(n-1,1,output,i+1)\n",
    "\n",
    "\n",
    "def main():\n",
    "    t=int(input())\n",
    "    while t>0:\n",
    "        n=int(input())\n",
    "        output =[-1]*n\n",
    "        binary(n,-1,output,0)\n",
    "        t=t-1\n",
    "    \n",
    "\n",
    "main()"
   ]
  },
  {
   "cell_type": "code",
   "execution_count": null,
   "metadata": {},
   "outputs": [],
   "source": []
  }
 ],
 "metadata": {
  "kernelspec": {
   "display_name": "Python 3.9.7 ('base')",
   "language": "python",
   "name": "python3"
  },
  "language_info": {
   "codemirror_mode": {
    "name": "ipython",
    "version": 3
   },
   "file_extension": ".py",
   "mimetype": "text/x-python",
   "name": "python",
   "nbconvert_exporter": "python",
   "pygments_lexer": "ipython3",
   "version": "3.9.7"
  },
  "orig_nbformat": 4,
  "vscode": {
   "interpreter": {
    "hash": "84129655c039cdc609eff4947a443e18daa48d29053ccc3d8283615438a60ab8"
   }
  }
 },
 "nbformat": 4,
 "nbformat_minor": 2
}
