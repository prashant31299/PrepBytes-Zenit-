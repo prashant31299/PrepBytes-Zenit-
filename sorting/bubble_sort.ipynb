{
 "cells": [
  {
   "cell_type": "code",
   "execution_count": null,
   "metadata": {},
   "outputs": [],
   "source": [
    "def bubbleSort(arr,n):\n",
    "    for i in range(n):\n",
    "        swap=0\n",
    "        for j in range(n-i-1):\n",
    "            if arr[j]>arr[j+1]:\n",
    "                arr[j],arr[j+1]=arr[j+1],arr[j]\n",
    "                swap+=1\n",
    "        if swap==0:\n",
    "            break\n",
    "def main():\n",
    "    t=int(input())\n",
    "    while (t>0):\n",
    "        n=int(input())\n",
    "        arr=list(map(int,input().split()))\n",
    "        bubbleSort(arr,n)\n",
    "        for i in range(n):\n",
    "            print(arr[i],end= ' ')\n",
    "        print()\n",
    "        t=t-1\n",
    "if __name__=='__main__':\n",
    "    main()"
   ]
  },
  {
   "cell_type": "code",
   "execution_count": null,
   "metadata": {},
   "outputs": [],
   "source": []
  }
 ],
 "metadata": {
  "kernelspec": {
   "display_name": "Python 3.9.7 ('base')",
   "language": "python",
   "name": "python3"
  },
  "language_info": {
   "name": "python",
   "version": "3.9.7"
  },
  "orig_nbformat": 4,
  "vscode": {
   "interpreter": {
    "hash": "84129655c039cdc609eff4947a443e18daa48d29053ccc3d8283615438a60ab8"
   }
  }
 },
 "nbformat": 4,
 "nbformat_minor": 2
}
