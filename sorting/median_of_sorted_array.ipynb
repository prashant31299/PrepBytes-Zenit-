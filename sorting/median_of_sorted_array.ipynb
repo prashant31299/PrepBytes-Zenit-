{
 "cells": [
  {
   "cell_type": "code",
   "execution_count": 2,
   "metadata": {},
   "outputs": [
    {
     "name": "stdout",
     "output_type": "stream",
     "text": [
      "3\n"
     ]
    }
   ],
   "source": [
    "def median(arr,n):\n",
    "    mid=0\n",
    "    arr.sort()\n",
    "    if n % 2 ==0:\n",
    "        mid=(arr[n//2]+arr[(n//2)])/2\n",
    "        return mid\n",
    "    else:\n",
    "        mid=arr[n//2]\n",
    "        return mid\n",
    "def main():\n",
    "\n",
    "    n=int(input())\n",
    "    arr=list(map(int,input().split()))\n",
    "    res=median(arr,n)\n",
    "    print(res)\n",
    "\n",
    "    \n",
    "        \n",
    "if __name__=='__main__':\n",
    "    main()"
   ]
  },
  {
   "cell_type": "code",
   "execution_count": null,
   "metadata": {},
   "outputs": [],
   "source": []
  }
 ],
 "metadata": {
  "kernelspec": {
   "display_name": "Python 3.9.7 ('base')",
   "language": "python",
   "name": "python3"
  },
  "language_info": {
   "codemirror_mode": {
    "name": "ipython",
    "version": 3
   },
   "file_extension": ".py",
   "mimetype": "text/x-python",
   "name": "python",
   "nbconvert_exporter": "python",
   "pygments_lexer": "ipython3",
   "version": "3.9.7"
  },
  "orig_nbformat": 4,
  "vscode": {
   "interpreter": {
    "hash": "84129655c039cdc609eff4947a443e18daa48d29053ccc3d8283615438a60ab8"
   }
  }
 },
 "nbformat": 4,
 "nbformat_minor": 2
}
