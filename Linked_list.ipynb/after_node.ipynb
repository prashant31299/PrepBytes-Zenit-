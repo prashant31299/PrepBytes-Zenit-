{
 "cells": [
  {
   "cell_type": "code",
   "execution_count": 5,
   "metadata": {},
   "outputs": [
    {
     "name": "stdout",
     "output_type": "stream",
     "text": [
      "33\n",
      "22\n"
     ]
    }
   ],
   "source": [
    "class Node:\n",
    "    def __init__(self,data):\n",
    "        self.data=data\n",
    "        self.next=None\n",
    "class LinkList:\n",
    "    def __init__(self):\n",
    "        self.head=None\n",
    "    \n",
    "    def after_node(self,data,x):\n",
    "        temp=self.head\n",
    "        while temp is not None:\n",
    "            if x==temp.data:\n",
    "                break\n",
    "            temp=temp.next\n",
    "        if temp is None:\n",
    "            print('temp is not empty')\n",
    "        else:\n",
    "            newnode=Node(data)\n",
    "            newnode.next =temp.next\n",
    "            temp.next=newnode\n",
    "\n",
    "    \n",
    "\n",
    "\n",
    "\n",
    "    def end(self,data):\n",
    "        newnode=Node(data)\n",
    "        if self.head is None:\n",
    "            self.head=newnode\n",
    "        else:\n",
    "            temp=self.head\n",
    "            while temp.next is not None:\n",
    "                temp=temp.next\n",
    "            temp.next=newnode\n",
    "\n",
    "    def printL(self):\n",
    "        temp=self.head\n",
    "        while temp:\n",
    "            print(temp.data)\n",
    "            temp=temp.next\n",
    "\n",
    "LL=LinkList()\n",
    "LL.end(33)\n",
    "LL.after_node(22,33)\n",
    "LL.printL()"
   ]
  },
  {
   "cell_type": "code",
   "execution_count": 17,
   "metadata": {},
   "outputs": [
    {
     "name": "stdout",
     "output_type": "stream",
     "text": [
      "33 -->12 -->53 -->22 -->"
     ]
    }
   ],
   "source": [
    "class Node:\n",
    "    def __init__(self,data):\n",
    "        self.data=data\n",
    "        self.next=None\n",
    "class LinkList:\n",
    "    def __init__(self):\n",
    "        self.head=None\n",
    "    \n",
    "    def ithposition(self,i,data):\n",
    "        newnode=Node(data)\n",
    "        if (i==0):\n",
    "            self.end(data)\n",
    "        else:\n",
    "            count=0\n",
    "            temp=self.head\n",
    "\n",
    "            while temp.next is not None and count is not (i-1):\n",
    "                count+=1\n",
    "                temp=temp.next\n",
    "            if temp.next is None and i>count+1:\n",
    "                return\n",
    " \n",
    "            else:\n",
    "                newnode.next =temp.next\n",
    "                temp.next=newnode\n",
    "\n",
    "    \n",
    "\n",
    "\n",
    "\n",
    "    def end(self,data):\n",
    "        newnode=Node(data)\n",
    "        if self.head is None:\n",
    "            self.head=newnode\n",
    "        else:\n",
    "            temp=self.head\n",
    "            while temp.next is not None:\n",
    "                temp=temp.next\n",
    "            temp.next=newnode\n",
    "\n",
    "    def printL(self):\n",
    "        temp=self.head\n",
    "        while temp:\n",
    "            print(temp.data,end= ' -->')\n",
    "            temp=temp.next\n",
    "\n",
    "LL=LinkList()\n",
    "LL.end(33)\n",
    "LL.end(12)\n",
    "LL.end(53)\n",
    "LL.ithposition(0,22)\n",
    "LL.printL()"
   ]
  },
  {
   "cell_type": "markdown",
   "metadata": {},
   "source": []
  },
  {
   "cell_type": "code",
   "execution_count": null,
   "metadata": {},
   "outputs": [],
   "source": []
  }
 ],
 "metadata": {
  "kernelspec": {
   "display_name": "Python 3.9.7 ('base')",
   "language": "python",
   "name": "python3"
  },
  "language_info": {
   "codemirror_mode": {
    "name": "ipython",
    "version": 3
   },
   "file_extension": ".py",
   "mimetype": "text/x-python",
   "name": "python",
   "nbconvert_exporter": "python",
   "pygments_lexer": "ipython3",
   "version": "3.9.7"
  },
  "orig_nbformat": 4,
  "vscode": {
   "interpreter": {
    "hash": "84129655c039cdc609eff4947a443e18daa48d29053ccc3d8283615438a60ab8"
   }
  }
 },
 "nbformat": 4,
 "nbformat_minor": 2
}
