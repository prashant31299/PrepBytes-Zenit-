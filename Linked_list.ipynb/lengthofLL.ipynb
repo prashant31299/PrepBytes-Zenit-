{
 "cells": [
  {
   "cell_type": "code",
   "execution_count": 3,
   "metadata": {},
   "outputs": [
    {
     "data": {
      "text/plain": [
       "6"
      ]
     },
     "execution_count": 3,
     "metadata": {},
     "output_type": "execute_result"
    }
   ],
   "source": [
    "class Node:\n",
    "    def __init__(self,data):\n",
    "        self.data=data\n",
    "        self.next=None\n",
    "\n",
    "class Linklist:\n",
    "    def __init__(self):\n",
    "        self.head=None\n",
    "\n",
    "    def insetEnd(self,data):\n",
    "        newNode=Node(data)\n",
    "        if (self.head is None):\n",
    "            self.head=newNode\n",
    "            self.tail=newNode\n",
    "        else:\n",
    "            self.tail.next=newNode\n",
    "            self.tail=newNode\n",
    "    \n",
    "    def printL(self):\n",
    "        temp=self.head\n",
    "        while temp:\n",
    "            print(temp.data,end= ' ')\n",
    "            temp=temp.next\n",
    "\n",
    "    def length(self):\n",
    "        temp=self.head\n",
    "        count=0\n",
    "        while temp:\n",
    "            count +=1\n",
    "            temp=temp.next\n",
    "        return count\n",
    "LL=Linklist()\n",
    "\n",
    "arr=[5,3,2,4,1,3]\n",
    "for i in range(len(arr)):\n",
    "    LL.insetEnd(arr[i])\n",
    "LL.length()\n",
    "\n"
   ]
  },
  {
   "cell_type": "code",
   "execution_count": null,
   "metadata": {},
   "outputs": [],
   "source": []
  }
 ],
 "metadata": {
  "kernelspec": {
   "display_name": "Python 3.9.7 ('base')",
   "language": "python",
   "name": "python3"
  },
  "language_info": {
   "codemirror_mode": {
    "name": "ipython",
    "version": 3
   },
   "file_extension": ".py",
   "mimetype": "text/x-python",
   "name": "python",
   "nbconvert_exporter": "python",
   "pygments_lexer": "ipython3",
   "version": "3.9.7"
  },
  "orig_nbformat": 4,
  "vscode": {
   "interpreter": {
    "hash": "84129655c039cdc609eff4947a443e18daa48d29053ccc3d8283615438a60ab8"
   }
  }
 },
 "nbformat": 4,
 "nbformat_minor": 2
}
