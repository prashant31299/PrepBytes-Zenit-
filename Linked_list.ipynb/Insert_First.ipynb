{
 "cells": [
  {
   "cell_type": "code",
   "execution_count": 5,
   "metadata": {},
   "outputs": [
    {
     "name": "stdout",
     "output_type": "stream",
     "text": [
      "2 -- > 4 -- > 2 -- > 3 -- > 4 -- > "
     ]
    }
   ],
   "source": [
    "# inset at first linked list \n",
    "\n",
    "class Node:\n",
    "    def __init__(self,data):\n",
    "        self.data=data\n",
    "        self.next=None\n",
    "\n",
    "class LinkeList:\n",
    "    def __init__(self):\n",
    "        self.head=None\n",
    "\n",
    "    def FirstHead(self,data):\n",
    "        newNode=Node(data)\n",
    "        newNode.next=self.head\n",
    "        self.head=newNode\n",
    "\n",
    "    def print(self):\n",
    "        temp=self.head\n",
    "        while temp:\n",
    "            print(temp.data,end= ' -- > ')\n",
    "            temp= temp.next\n",
    "\n",
    "LL=LinkeList()\n",
    "arr=[4,3,2,4,2]\n",
    "for i in range(len(arr)):\n",
    "    LL.FirstHead(arr[i])\n",
    "LL.print()"
   ]
  },
  {
   "cell_type": "code",
   "execution_count": 20,
   "metadata": {},
   "outputs": [
    {
     "name": "stdout",
     "output_type": "stream",
     "text": [
      "20 22 "
     ]
    }
   ],
   "source": [
    "class Node:\n",
    "    def __init__(self,data):\n",
    "        self.data=data\n",
    "        self.next=None\n",
    "\n",
    "\n",
    "class Linklist:\n",
    "    def __init__(self):\n",
    "        self.head= None\n",
    "    \n",
    "    def beginI(self,data):\n",
    "        newNode=Node(data)\n",
    "        if(self.head ==None):\n",
    "            self.head= newNode\n",
    "        else:\n",
    "            newNode.next=self.head\n",
    "            self.head=newNode\n",
    "\n",
    "    def printL(self):\n",
    "        temp=self.head\n",
    "        while temp:\n",
    "            print(temp.data,end=' ')\n",
    "            temp=temp.next\n",
    "        \n",
    "LL=LinkeList()\n",
    "LL.beginI(22)\n",
    "LL.beginI(20)\n",
    "LL.printL()\n"
   ]
  },
  {
   "cell_type": "code",
   "execution_count": null,
   "metadata": {},
   "outputs": [],
   "source": []
  },
  {
   "cell_type": "code",
   "execution_count": null,
   "metadata": {},
   "outputs": [],
   "source": []
  }
 ],
 "metadata": {
  "kernelspec": {
   "display_name": "Python 3.9.7 ('base')",
   "language": "python",
   "name": "python3"
  },
  "language_info": {
   "codemirror_mode": {
    "name": "ipython",
    "version": 3
   },
   "file_extension": ".py",
   "mimetype": "text/x-python",
   "name": "python",
   "nbconvert_exporter": "python",
   "pygments_lexer": "ipython3",
   "version": "3.9.7"
  },
  "orig_nbformat": 4,
  "vscode": {
   "interpreter": {
    "hash": "84129655c039cdc609eff4947a443e18daa48d29053ccc3d8283615438a60ab8"
   }
  }
 },
 "nbformat": 4,
 "nbformat_minor": 2
}
