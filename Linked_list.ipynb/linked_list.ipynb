{
 "cells": [
  {
   "cell_type": "code",
   "execution_count": 7,
   "metadata": {},
   "outputs": [
    {
     "name": "stdout",
     "output_type": "stream",
     "text": [
      "<__main__.Node object at 0x7fa3389c6a90>\n",
      "<__main__.Node object at 0x7fa3389c6640>\n",
      "<__main__.Node object at 0x7fa3389c6640>\n",
      "None\n",
      "10\n",
      "20\n",
      "20\n",
      "30\n"
     ]
    }
   ],
   "source": [
    "class Node:\n",
    "    def __init__(self,data):\n",
    "        self.data=data\n",
    "        self.next=None\n",
    "\n",
    "\n",
    "x=Node(10)\n",
    "y=Node(20)\n",
    "print(x)\n",
    "print(y)\n",
    "x.next=y\n",
    "print(y)\n",
    "print(y.next)\n",
    "print(x.data)\n",
    "print(y.data)\n",
    "print(x.next.data)\n",
    "x.data=30\n",
    "print(x.data)\n"
   ]
  },
  {
   "cell_type": "code",
   "execution_count": 23,
   "metadata": {},
   "outputs": [
    {
     "name": "stdout",
     "output_type": "stream",
     "text": [
      "1-->2-->3-->4-->5-->"
     ]
    }
   ],
   "source": [
    "class Node:\n",
    "    def __init__(self,data):\n",
    "        self.data=data\n",
    "        self.next=None\n",
    "\n",
    "class Linkedlist:\n",
    "    def __init__(self):\n",
    "        self.head=None\n",
    "\n",
    "    def insertFirst(self,data):\n",
    "        newNode=Node(data)\n",
    "        if (self.head is None):\n",
    "            self.head=newNode\n",
    "        else:\n",
    "            temp=self.head\n",
    "            while(temp.next is not None):\n",
    "                temp=temp.next\n",
    "            temp.next=newNode\n",
    "    \n",
    "    def  printL(self):\n",
    "        temp=self.head\n",
    "        while (temp!=None):\n",
    "            print( temp.data , end= '-->' )\n",
    "            # print(temp,end=' ')\n",
    "            # print(temp.next)\n",
    "            temp=temp.next\n",
    "\n",
    "LL=Linkedlist()\n",
    "\n",
    "\n",
    "arr=[1,2,3,4,5]\n",
    "for i in range(len(arr)):\n",
    "    LL.insertFirst(arr[i])\n",
    "LL.printL()\n"
   ]
  },
  {
   "cell_type": "code",
   "execution_count": 27,
   "metadata": {},
   "outputs": [
    {
     "name": "stdout",
     "output_type": "stream",
     "text": [
      "1 2 3 4 5 "
     ]
    }
   ],
   "source": [
    "class Node:\n",
    "    def __init__(self,data):\n",
    "        self.data=data\n",
    "        self.next=None\n",
    "\n",
    "class Linkedl:\n",
    "    def __init__(self):\n",
    "        self.head=None\n",
    "\n",
    "    def inserF(self,data):\n",
    "        newNode=Node(data)\n",
    "        if (self.head is None):\n",
    "            self.head=newNode\n",
    "        else:\n",
    "            temp=self.head\n",
    "            while (temp.next is not None):\n",
    "                temp=temp.next\n",
    "            temp.next=newNode\n",
    "    \n",
    "    def printL(self):\n",
    "        temp=self.head\n",
    "        while temp:\n",
    "            print(temp.data,end= ' ')\n",
    "            temp=temp.next\n",
    "\n",
    "LL=Linkedl()\n",
    "\n",
    "\n",
    "arr=[1,2,3,4,5]\n",
    "for i in range(len(arr)):\n",
    "    LL.inserF(arr[i])\n",
    "LL.printL()\n"
   ]
  },
  {
   "cell_type": "code",
   "execution_count": null,
   "metadata": {},
   "outputs": [],
   "source": []
  }
 ],
 "metadata": {
  "kernelspec": {
   "display_name": "Python 3.9.7 ('base')",
   "language": "python",
   "name": "python3"
  },
  "language_info": {
   "codemirror_mode": {
    "name": "ipython",
    "version": 3
   },
   "file_extension": ".py",
   "mimetype": "text/x-python",
   "name": "python",
   "nbconvert_exporter": "python",
   "pygments_lexer": "ipython3",
   "version": "3.9.7"
  },
  "orig_nbformat": 4,
  "vscode": {
   "interpreter": {
    "hash": "84129655c039cdc609eff4947a443e18daa48d29053ccc3d8283615438a60ab8"
   }
  }
 },
 "nbformat": 4,
 "nbformat_minor": 2
}
