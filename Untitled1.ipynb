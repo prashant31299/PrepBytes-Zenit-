{
 "cells": [
  {
   "cell_type": "code",
   "execution_count": 3,
   "id": "21d6875d-398c-4e94-977c-a15d5431e9f7",
   "metadata": {},
   "outputs": [
    {
     "name": "stdout",
     "output_type": "stream",
     "text": [
      "s\n",
      "e\n",
      "q\n",
      "u\n",
      "a\n",
      "n\n",
      "c\n",
      "e\n"
     ]
    }
   ],
   "source": [
    "for i in 'sequance':\n",
    "    print(i)"
   ]
  },
  {
   "cell_type": "code",
   "execution_count": 14,
   "id": "e17188af-8d31-4ed2-8d32-75766ee8c696",
   "metadata": {},
   "outputs": [
    {
     "name": "stdout",
     "output_type": "stream",
     "text": [
      "36\n"
     ]
    }
   ],
   "source": [
    "list=[1,2,3,4,5,6,7,8,9]\n",
    "sum=0\n",
    "for i in range(len(list)):\n",
    "    sum=sum+i\n",
    "print(sum)\n",
    "# print()?\n",
    "# print(len(list))"
   ]
  },
  {
   "cell_type": "code",
   "execution_count": 20,
   "id": "50a945c7-a07b-42b2-afb3-c610ff0934e1",
   "metadata": {},
   "outputs": [
    {
     "name": "stdout",
     "output_type": "stream",
     "text": [
      "8\n"
     ]
    }
   ],
   "source": [
    "\n",
    "a=range(3)\n",
    "i in range(22)\n",
    "print(i)"
   ]
  },
  {
   "cell_type": "code",
   "execution_count": null,
   "id": "63cadd07-9dc1-4f4d-a1a9-010d30bb3ac1",
   "metadata": {},
   "outputs": [],
   "source": []
  },
  {
   "cell_type": "code",
   "execution_count": null,
   "id": "948f8837-7bce-4d6b-a4c6-64e50aed0325",
   "metadata": {},
   "outputs": [],
   "source": []
  },
  {
   "cell_type": "code",
   "execution_count": null,
   "id": "5605f83b-312e-4638-87cf-bb0f16cc266d",
   "metadata": {},
   "outputs": [],
   "source": []
  }
 ],
 "metadata": {
  "kernelspec": {
   "display_name": "Python 3 (ipykernel)",
   "language": "python",
   "name": "python3"
  },
  "language_info": {
   "codemirror_mode": {
    "name": "ipython",
    "version": 3
   },
   "file_extension": ".py",
   "mimetype": "text/x-python",
   "name": "python",
   "nbconvert_exporter": "python",
   "pygments_lexer": "ipython3",
   "version": "3.9.7"
  }
 },
 "nbformat": 4,
 "nbformat_minor": 5
}
