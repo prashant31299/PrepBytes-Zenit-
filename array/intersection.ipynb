{
 "cells": [
  {
   "cell_type": "code",
   "execution_count": 5,
   "id": "d999d43c-d267-4031-9fb9-e960eb4f3dce",
   "metadata": {},
   "outputs": [
    {
     "name": "stdin",
     "output_type": "stream",
     "text": [
      " 1\n",
      " 4\n",
      " 1 2 2 3\n",
      " 4\n"
     ]
    },
    {
     "name": "stdout",
     "output_type": "stream",
     "text": [
      "0 3\n"
     ]
    }
   ],
   "source": [
    "# print the index of two number in array sum equal to k\n",
    "\n",
    "def main():\n",
    "    t=int(input())\n",
    "    while (t!=0):\n",
    "        n=int(input())\n",
    "        arr=list(map(int , input().split()))\n",
    "        k=int(input())\n",
    "        mini=-1\n",
    "        maxj=-1\n",
    "        for i in range(n-1):\n",
    "            for j in range(i+1,n):\n",
    "                if arr[i]+arr[j]==k:\n",
    "                    flag=1\n",
    "                    if j>maxj:\n",
    "                        mini=i\n",
    "                        maxj=j\n",
    "                    elif (maxj==j & mini>i):\n",
    "                        mini=i\n",
    "                        maxj=j\n",
    "        if  flag==0:\n",
    "            print('not found ')\n",
    "        else:\n",
    "            print(mini,maxj)\n",
    "        \n",
    "        t=t-1\n",
    "                 \n",
    "            \n",
    "if __name__ == '__main__':\n",
    "    main()\n",
    "        "
   ]
  },
  {
   "cell_type": "code",
   "execution_count": null,
   "id": "a9497f41-7fc5-49c8-a110-8f9a52ec5277",
   "metadata": {},
   "outputs": [],
   "source": []
  }
 ],
 "metadata": {
  "kernelspec": {
   "display_name": "Python 3 (ipykernel)",
   "language": "python",
   "name": "python3"
  },
  "language_info": {
   "codemirror_mode": {
    "name": "ipython",
    "version": 3
   },
   "file_extension": ".py",
   "mimetype": "text/x-python",
   "name": "python",
   "nbconvert_exporter": "python",
   "pygments_lexer": "ipython3",
   "version": "3.9.7"
  }
 },
 "nbformat": 4,
 "nbformat_minor": 5
}
