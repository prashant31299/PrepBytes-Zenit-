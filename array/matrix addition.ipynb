{
 "cells": [
  {
   "cell_type": "code",
   "execution_count": 8,
   "id": "4db2ad86-1fbb-4965-b5bf-1cde62f14caf",
   "metadata": {},
   "outputs": [
    {
     "name": "stdin",
     "output_type": "stream",
     "text": [
      " 2 2\n",
      " 2 2\n",
      " 3 3\n",
      " 2 2\n",
      " 3 3\n"
     ]
    },
    {
     "name": "stdout",
     "output_type": "stream",
     "text": [
      "4 4 \n",
      "6 6 \n",
      "10 10 \n",
      "15 15 \n"
     ]
    }
   ],
   "source": [
    "n,m = map(int,input().split())\n",
    "mat1=[]\n",
    "for i in range(n):\n",
    "    mat1.append(list(map(int,input().split())))\n",
    "\n",
    "mat2=[]\n",
    "for i in range(n):\n",
    "    mat2.append(list(map(int,input().split())))\n",
    "    \n",
    "mat3=[]\n",
    "for i in range(n):\n",
    "    mat3.append([0]*m)\n",
    "\n",
    "#Addition\n",
    "\n",
    "for i in range(n):\n",
    "    for j in range(n):\n",
    "        mat3[i][j]= mat1[i][j]+mat2[i][j]\n",
    "# addition ?\n",
    "for i in range(n):\n",
    "    for j in range(n):\n",
    "        print(mat3[i][j],end=' ')\n",
    "    print()\n",
    "#multiplication\n",
    "mat3=[]\n",
    "for i in range(n):\n",
    "    mat3.append([0]*m)\n",
    "    \n",
    "for i in range(n):\n",
    "    for j in range(m):\n",
    "        for k in range(m):\n",
    "            mat3[i][j]= mat3[i][j]+(mat1[i][k]*mat2[k][j])\n",
    "\n",
    "for i in range(n):\n",
    "    for j in range(n):\n",
    "        print(mat3[i][j],end=' ')\n",
    "    print()\n"
   ]
  },
  {
   "cell_type": "code",
   "execution_count": null,
   "id": "9fa80b72-c5bb-4a9d-be72-1d2f8df7db57",
   "metadata": {},
   "outputs": [],
   "source": []
  }
 ],
 "metadata": {
  "kernelspec": {
   "display_name": "Python 3 (ipykernel)",
   "language": "python",
   "name": "python3"
  },
  "language_info": {
   "codemirror_mode": {
    "name": "ipython",
    "version": 3
   },
   "file_extension": ".py",
   "mimetype": "text/x-python",
   "name": "python",
   "nbconvert_exporter": "python",
   "pygments_lexer": "ipython3",
   "version": "3.9.7"
  }
 },
 "nbformat": 4,
 "nbformat_minor": 5
}
