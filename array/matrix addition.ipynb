{
 "cells": [
  {
   "cell_type": "code",
   "execution_count": 2,
   "id": "4db2ad86-1fbb-4965-b5bf-1cde62f14caf",
   "metadata": {},
   "outputs": [
    {
     "name": "stdout",
     "output_type": "stream",
     "text": [
      "3 4 \n",
      "3 4 \n",
      "6 6 \n",
      "6 6 \n"
     ]
    }
   ],
   "source": [
    "n,m = map(int,input().split())\n",
    "mat1=[]\n",
    "for i in range(n):\n",
    "    mat1.append(list(map(int,input().split())))\n",
    "\n",
    "mat2=[]\n",
    "for i in range(n):\n",
    "    mat2.append(list(map(int,input().split())))\n",
    "    \n",
    "mat3=[]\n",
    "for i in range(n):\n",
    "    mat3.append([0]*m)\n",
    "\n",
    "#Addition\n",
    "\n",
    "for i in range(n):\n",
    "    for j in range(n):\n",
    "        mat3[i][j]= mat1[i][j]+mat2[i][j]\n",
    "# addition ?\n",
    "for i in range(n):\n",
    "    for j in range(n):\n",
    "        print(mat3[i][j],end=' ')\n",
    "    print()\n",
    "#multiplication\n",
    "mat3=[]\n",
    "for i in range(n):\n",
    "    mat3.append([0]*m)\n",
    "    \n",
    "for i in range(n):\n",
    "    for j in range(m):\n",
    "        for k in range(m):\n",
    "            mat3[i][j]= mat3[i][j]+(mat1[i][k]*mat2[k][j])\n",
    "\n",
    "for i in range(n):\n",
    "    for j in range(n):\n",
    "        print(mat3[i][j],end=' ')\n",
    "    print()\n"
   ]
  },
  {
   "cell_type": "code",
   "execution_count": 9,
   "id": "9fa80b72-c5bb-4a9d-be72-1d2f8df7db57",
   "metadata": {},
   "outputs": [
    {
     "name": "stdout",
     "output_type": "stream",
     "text": [
      " 1 1\n",
      " 1 2\n"
     ]
    },
    {
     "name": "stdout",
     "output_type": "stream",
     "text": [
      "[[1, 2]]\n"
     ]
    }
   ],
   "source": [
    "n,m = map(int,input().split())\n",
    "mat1=[]\n",
    "for i in range(n):\n",
    "    mat1.append(list(map(int,input().split())))\n",
    "print(mat1)"
   ]
  },
  {
   "cell_type": "code",
   "execution_count": null,
   "id": "aed67418-54b9-4781-b94b-32a60f44ab99",
   "metadata": {},
   "outputs": [],
   "source": []
  }
 ],
 "metadata": {
  "kernelspec": {
   "display_name": "Python 3.8.9 64-bit",
   "language": "python",
   "name": "python3"
  },
  "language_info": {
   "codemirror_mode": {
    "name": "ipython",
    "version": 3
   },
   "file_extension": ".py",
   "mimetype": "text/x-python",
   "name": "python",
   "nbconvert_exporter": "python",
   "pygments_lexer": "ipython3",
   "version": "3.8.9"
  },
  "vscode": {
   "interpreter": {
    "hash": "31f2aee4e71d21fbe5cf8b01ff0e069b9275f58929596ceb00d14d90e3e16cd6"
   }
  }
 },
 "nbformat": 4,
 "nbformat_minor": 5
}
