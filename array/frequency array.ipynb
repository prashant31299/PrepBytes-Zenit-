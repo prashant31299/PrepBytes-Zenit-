{
 "cells": [
  {
   "cell_type": "code",
   "execution_count": 33,
   "id": "8cee56e2-ef4b-4e41-8925-c0d7bc658c93",
   "metadata": {},
   "outputs": [
    {
     "name": "stdin",
     "output_type": "stream",
     "text": [
      " 1\n",
      " 2\n",
      " 1 1\n"
     ]
    },
    {
     "name": "stdout",
     "output_type": "stream",
     "text": [
      "1 2\n"
     ]
    }
   ],
   "source": [
    "t=int(input())\n",
    "while t>0:\n",
    "    n=int(input())\n",
    "\n",
    "\n",
    "    arr=list(map(int,input().split()))\n",
    "    freq=[0]*41\n",
    "    for i in range(n):\n",
    "        freq[arr[i]]+=1\n",
    "    \n",
    "    for i in range(40):\n",
    "        if (freq[i]>0):\n",
    "            print(i,freq[i])\n",
    "        \n",
    "        \n",
    "    t=t-1\n",
    "    "
   ]
  },
  {
   "cell_type": "code",
   "execution_count": null,
   "id": "30abd37a-4ed4-4b32-90fc-05b8008dd6a1",
   "metadata": {},
   "outputs": [],
   "source": [
    "# how to find unique item\n",
    "t=int(input())\n",
    "while t>0:\n",
    "    n=int(input())\n",
    "\n",
    "\n",
    "    arr=list(map(int,input().split()))\n",
    "    freq=[0]*41\n",
    "    for i in range(n):\n",
    "        freq[arr[i]]+=1\n",
    "    \n",
    "    for i in range(40):\n",
    "        if (freq[i]>0):\n",
    "            print(i,freq[i])\n",
    "        \n",
    "    flag=0\n",
    "    for i in range (40):\n",
    "        if(freq[i]>1):\n",
    "            flag=1\n",
    "            break\n",
    "        if \n",
    "    t=t-1\n",
    "    "
   ]
  },
  {
   "cell_type": "code",
   "execution_count": null,
   "id": "bee70bda-1e34-4dd4-b8d9-b245c214d6b1",
   "metadata": {},
   "outputs": [],
   "source": []
  }
 ],
 "metadata": {
  "kernelspec": {
   "display_name": "Python 3 (ipykernel)",
   "language": "python",
   "name": "python3"
  },
  "language_info": {
   "codemirror_mode": {
    "name": "ipython",
    "version": 3
   },
   "file_extension": ".py",
   "mimetype": "text/x-python",
   "name": "python",
   "nbconvert_exporter": "python",
   "pygments_lexer": "ipython3",
   "version": "3.9.7"
  }
 },
 "nbformat": 4,
 "nbformat_minor": 5
}
