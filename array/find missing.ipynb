{
 "cells": [
  {
   "cell_type": "code",
   "execution_count": 3,
   "id": "5453f671-4f60-492d-a571-a27880cb2f29",
   "metadata": {},
   "outputs": [
    {
     "name": "stdin",
     "output_type": "stream",
     "text": [
      " 1\n",
      " 4\n",
      " 1 2 4 5\n"
     ]
    },
    {
     "name": "stdout",
     "output_type": "stream",
     "text": [
      "3\n"
     ]
    }
   ],
   "source": [
    "t=int(input())\n",
    "while (t>0):\n",
    "  n=int(input())\n",
    "  arr=map(int,input().split())\n",
    "  total=(n+1)*(n+2)//2\n",
    "  sub=sum(arr)\n",
    "  print(total-sub)\n",
    "  t=t-1"
   ]
  },
  {
   "cell_type": "code",
   "execution_count": null,
   "id": "1d57aad7-d3af-495c-a5d4-8c54bb0467c2",
   "metadata": {},
   "outputs": [],
   "source": []
  }
 ],
 "metadata": {
  "kernelspec": {
   "display_name": "Python 3 (ipykernel)",
   "language": "python",
   "name": "python3"
  },
  "language_info": {
   "codemirror_mode": {
    "name": "ipython",
    "version": 3
   },
   "file_extension": ".py",
   "mimetype": "text/x-python",
   "name": "python",
   "nbconvert_exporter": "python",
   "pygments_lexer": "ipython3",
   "version": "3.9.7"
  }
 },
 "nbformat": 4,
 "nbformat_minor": 5
}
