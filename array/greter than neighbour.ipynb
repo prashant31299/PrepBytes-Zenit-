{
 "cells": [
  {
   "cell_type": "raw",
   "id": "04464767-5fcd-4a95-ad03-9d8d343a8ce9",
   "metadata": {},
   "source": [
    "greter than neighbour \n",
    "if arr[i-1]<arr[i]>arr[i+1]:\n",
    "          rent.append(i)"
   ]
  },
  {
   "cell_type": "code",
   "execution_count": 2,
   "id": "1b77b8e1-6427-4bc9-bf15-ca658739d96a",
   "metadata": {},
   "outputs": [
    {
     "name": "stdin",
     "output_type": "stream",
     "text": [
      " 2\n",
      " 4\n",
      " 2 4 2 1 \n"
     ]
    },
    {
     "name": "stdout",
     "output_type": "stream",
     "text": [
      "[1]\n"
     ]
    },
    {
     "name": "stdin",
     "output_type": "stream",
     "text": [
      " 1\n",
      " 233 \n"
     ]
    },
    {
     "name": "stdout",
     "output_type": "stream",
     "text": [
      "[]\n"
     ]
    }
   ],
   "source": [
    "t=int(input())\n",
    "while (t>0):\n",
    "    rent=[]\n",
    "    n=int(input())\n",
    "    arr=[]\n",
    "    for ele in input().split():\n",
    "        arr.append(int(ele))  \n",
    "    for i in range(n):\n",
    "        \n",
    "        if arr[i-1]<arr[i]>arr[i+1]:\n",
    "            rent.append(i)\n",
    "    \n",
    "    print(rent)\n",
    "    t=t-1\n",
    "            "
   ]
  },
  {
   "cell_type": "code",
   "execution_count": 6,
   "id": "9f8b95a4-69fa-454e-804a-dca599d54d89",
   "metadata": {},
   "outputs": [
    {
     "name": "stdin",
     "output_type": "stream",
     "text": [
      " 4   3   5   2    1\n"
     ]
    },
    {
     "name": "stdout",
     "output_type": "stream",
     "text": [
      "0 "
     ]
    }
   ],
   "source": [
    "# your code goes heren = int(input())\n",
    "arr = list(map(int,input().split()))\n",
    "flag = 0\n",
    "for i in range(n):\n",
    "    if i == 0:\n",
    "        if arr[i] > arr[i + 1]:\n",
    "            print(i, end = \" \")\n",
    "            flag = 1\n",
    "    elif i == n - 1:\n",
    "        if arr[i] > arr[i - 1]:\n",
    "            print(i, end = \" \")\n",
    "            flag = 1\n",
    "    else:\n",
    "        if arr[i] > arr[i - 1] and arr[i] > arr[i + 1]:\n",
    "            print(i, end = \" \")\n",
    "            flag = 1\n",
    "if flag == 0:\n",
    "    print(-1)"
   ]
  },
  {
   "cell_type": "code",
   "execution_count": null,
   "id": "58b487c8-b5f8-476b-9fd3-ff258d7b9eeb",
   "metadata": {},
   "outputs": [],
   "source": []
  }
 ],
 "metadata": {
  "kernelspec": {
   "display_name": "Python 3 (ipykernel)",
   "language": "python",
   "name": "python3"
  },
  "language_info": {
   "codemirror_mode": {
    "name": "ipython",
    "version": 3
   },
   "file_extension": ".py",
   "mimetype": "text/x-python",
   "name": "python",
   "nbconvert_exporter": "python",
   "pygments_lexer": "ipython3",
   "version": "3.9.7"
  }
 },
 "nbformat": 4,
 "nbformat_minor": 5
}
