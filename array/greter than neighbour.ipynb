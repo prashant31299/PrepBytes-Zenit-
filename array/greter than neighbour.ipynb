{
 "cells": [
  {
   "cell_type": "code",
   "execution_count": 21,
   "id": "1b77b8e1-6427-4bc9-bf15-ca658739d96a",
   "metadata": {},
   "outputs": [
    {
     "name": "stdout",
     "output_type": "stream",
     "text": [
      "0 2 0 2 5 "
     ]
    }
   ],
   "source": [
    "def neighbour(arr,n):\n",
    "    for i in range(n-1):\n",
    "        if i==0:\n",
    "            if arr[i] >arr[i+1]:\n",
    "                print(i,end= ' ')\n",
    "            \n",
    "        elif i == n-1:\n",
    "            if arr[i] >arr[i-1]:\n",
    "                print(i,end= ' ')\n",
    "\n",
    "        else:\n",
    "            if arr[i] > arr[i - 1] and arr[i] > arr[i + 1]:\n",
    "                print(i,end=' ')\n",
    "\n",
    "            \n",
    "\n",
    "\n",
    "\n",
    "def main():\n",
    "  t=int(input())\n",
    "  while t>0:\n",
    "    n=int(input())\n",
    "    arr=[]\n",
    "    for ele in input().split():\n",
    "      arr.append(int(ele))\n",
    "    \n",
    "    neighbour(arr,n)\n",
    "    t=t-1\n",
    "    \n",
    "if __name__=='__main__':\n",
    "  main()"
   ]
  },
  {
   "cell_type": "code",
   "execution_count": 22,
   "id": "c774b65c",
   "metadata": {},
   "outputs": [
    {
     "name": "stdout",
     "output_type": "stream",
     "text": [
      "41 "
     ]
    }
   ],
   "source": [
    "def neighbour(arr,n):\n",
    "    for i in range(1, n - 1, 1):\n",
    "        if (arr[i] > arr[i - 1] and\n",
    "            arr[i] > arr[i + 1]):\n",
    "            print(arr[i], end = \" \")\n",
    "\n",
    "\n",
    "\n",
    "def main():\n",
    "  t=int(input())\n",
    "  while t>0:\n",
    "    n=int(input())\n",
    "    arr=[]\n",
    "    for ele in input().split():\n",
    "      arr.append(int(ele))\n",
    "    \n",
    "    neighbour(arr,n)\n",
    "    t=t-1\n",
    "    \n",
    "if __name__=='__main__':\n",
    "  main()"
   ]
  },
  {
   "cell_type": "code",
   "execution_count": null,
   "id": "89b3df66",
   "metadata": {},
   "outputs": [],
   "source": [
    "#include <bits/stdc++.h>\n",
    "using namespace std;\n",
    "\n",
    "int main()\n",
    "{int t;\n",
    "cin>>t; \n",
    "while(t>0)\n",
    "    {\n",
    "         int n,a[100000000],i,c=0;\n",
    "  cin>>n;\n",
    "  for(i=0;i<n;i++)\n",
    "  {\n",
    "    cin>>a[i];}\n",
    "    \n",
    "  if(a[0]>a[1])\n",
    " { cout<<\"0 \"; c=1;}\n",
    "  for(i=1;i<n-1;i++)\n",
    "  {\n",
    "    if(a[i]>a[i-1]&&a[i]>a[i+1])\n",
    "    {cout<<i<<\" \"; c=1;}\n",
    "  }\n",
    "  if(a[n-1]>a[n-2])\n",
    " { cout<<n-1<<\" \"; c=1;}\n",
    " if(c==0)\n",
    "  cout<<\"-1\";\n",
    "  cout<<\"\\n\";\n",
    "  \n",
    "  t--;\n",
    "}\n",
    "  return 0;\n",
    "}"
   ]
  }
 ],
 "metadata": {
  "kernelspec": {
   "display_name": "Python 3.9.7 ('base')",
   "language": "python",
   "name": "python3"
  },
  "language_info": {
   "codemirror_mode": {
    "name": "ipython",
    "version": 3
   },
   "file_extension": ".py",
   "mimetype": "text/x-python",
   "name": "python",
   "nbconvert_exporter": "python",
   "pygments_lexer": "ipython3",
   "version": "3.9.7"
  },
  "vscode": {
   "interpreter": {
    "hash": "84129655c039cdc609eff4947a443e18daa48d29053ccc3d8283615438a60ab8"
   }
  }
 },
 "nbformat": 4,
 "nbformat_minor": 5
}
