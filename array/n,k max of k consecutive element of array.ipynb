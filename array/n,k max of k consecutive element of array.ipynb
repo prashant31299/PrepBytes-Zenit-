{
 "cells": [
  {
   "cell_type": "code",
   "execution_count": 46,
   "id": "3b26f0ff-7191-419d-89b8-cc673a601427",
   "metadata": {},
   "outputs": [
    {
     "data": {
      "text/plain": [
       "12"
      ]
     },
     "execution_count": 46,
     "metadata": {},
     "output_type": "execute_result"
    }
   ],
   "source": [
    "def kele(arr,k):\n",
    "    max=-1\n",
    "    sum=0\n",
    "    n=len(arr)\n",
    "    for i in range(0,n-k+1):\n",
    "        sum=0\n",
    "        for j in range(i,i+k):\n",
    "            sum+=arr[j]\n",
    "        if (max<sum):\n",
    "            max=sum\n",
    "    return sum\n",
    "\n",
    "arr=[1,2,3,4,5]\n",
    "kele(arr,3)\n"
   ]
  },
  {
   "cell_type": "code",
   "execution_count": 40,
   "id": "108d4c1e-edb8-4ba7-9744-f452ecf3d51e",
   "metadata": {},
   "outputs": [
    {
     "data": {
      "text/plain": [
       "3"
      ]
     },
     "execution_count": 40,
     "metadata": {},
     "output_type": "execute_result"
    }
   ],
   "source": [
    "arr=[1,2,3,4]\n",
    "len(arr)-1"
   ]
  },
  {
   "cell_type": "code",
   "execution_count": null,
   "id": "85902290-2aef-4adf-a3bf-4bde426e0501",
   "metadata": {},
   "outputs": [],
   "source": []
  }
 ],
 "metadata": {
  "kernelspec": {
   "display_name": "Python 3 (ipykernel)",
   "language": "python",
   "name": "python3"
  },
  "language_info": {
   "codemirror_mode": {
    "name": "ipython",
    "version": 3
   },
   "file_extension": ".py",
   "mimetype": "text/x-python",
   "name": "python",
   "nbconvert_exporter": "python",
   "pygments_lexer": "ipython3",
   "version": "3.9.7"
  }
 },
 "nbformat": 4,
 "nbformat_minor": 5
}
