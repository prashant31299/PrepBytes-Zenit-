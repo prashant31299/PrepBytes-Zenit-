{
 "cells": [
  {
   "cell_type": "code",
   "execution_count": 8,
   "id": "0a8b3ff7-ffd1-4003-945e-9525a900084e",
   "metadata": {},
   "outputs": [
    {
     "name": "stdout",
     "output_type": "stream",
     "text": [
      "4 8 12 \n",
      "16 20 24 \n",
      "28 32 36 \n",
      "[[4, 8, 12], [16, 20, 24], [28, 32, 36]]\n"
     ]
    }
   ],
   "source": [
    "# Program for scalar multiplication of a matrix\n",
    "\n",
    "def scalerM(mat ,k):\n",
    "    n=len(mat)\n",
    "    for i in range(n):\n",
    "        for j in range(n):\n",
    "            mat[i][j]=mat[i][j]*k \n",
    "    \n",
    "mat =[[ 1, 2, 3 ],\n",
    "    [ 4, 5, 6 ],\n",
    "    [ 7, 8, 9 ]]\n",
    "k = 4\n",
    "scalerM(mat,k)\n",
    "n=len(mat)\n",
    "\n",
    "for i in range(n):\n",
    "    for j in range(n):\n",
    "        print(mat[i][j],end=' ')\n",
    "    print()\n",
    "print(mat)\n",
    "\n"
   ]
  },
  {
   "cell_type": "code",
   "execution_count": 14,
   "id": "61164205-8537-42a6-9068-ceafeb5b14d0",
   "metadata": {},
   "outputs": [
    {
     "name": "stdin",
     "output_type": "stream",
     "text": [
      " 2 2\n",
      " 5\n",
      " 1 2\n",
      " 3 4\n"
     ]
    },
    {
     "name": "stdout",
     "output_type": "stream",
     "text": [
      "1 2 \n",
      "3 4 \n"
     ]
    }
   ],
   "source": [
    "n,m = map(int,input().split())\n",
    "k=int(input())\n",
    "mat1=[]\n",
    "for i in range(n):\n",
    "    mat1.append(list(map(int,input().split())))\n",
    "    \n",
    "for i in range(n):\n",
    "    for j in range(n):\n",
    "        mat[i][j]=mat[i][j]*k\n",
    "\n",
    "for i in range(n):\n",
    "    for j in range(n):\n",
    "        print(mat1[i][j],end=' ')\n",
    "    print()"
   ]
  },
  {
   "cell_type": "code",
   "execution_count": 36,
   "id": "d099d1ff-a5a7-48fc-9a31-1cee72a1d42c",
   "metadata": {},
   "outputs": [
    {
     "ename": "TabError",
     "evalue": "inconsistent use of tabs and spaces in indentation (2222893924.py, line 25)",
     "output_type": "error",
     "traceback": [
      "\u001b[0;36m  File \u001b[0;32m\"/var/folders/4r/gqwzkbyx23j4pl59zg1g6g880000gn/T/ipykernel_2776/2222893924.py\"\u001b[0;36m, line \u001b[0;32m25\u001b[0m\n\u001b[0;31m    scalarProductMat(n,k)\u001b[0m\n\u001b[0m                         ^\u001b[0m\n\u001b[0;31mTabError\u001b[0m\u001b[0;31m:\u001b[0m inconsistent use of tabs and spaces in indentation\n"
     ]
    }
   ],
   "source": [
    "\n",
    "\n",
    "\n",
    "def scalarProductMat(n,k):\n",
    "\n",
    "    \n",
    "    mat1=[]\n",
    "    for i in range(n):\n",
    "        mat1.append(list(map(int,input().split())))\n",
    "    \n",
    "    for i in range(n):\n",
    "        for j in range(n):\n",
    "            mat[i][j]=mat[i][j]*k\n",
    "            \n",
    "\n",
    "        \n",
    "# Driver code\n",
    "if __name__ == \"__main__\":\n",
    "    n,m = map(int,input().split())\n",
    "    k=int(input())\n",
    "    \n",
    "\tscalarProductMat(n,k)\n",
    "    \n",
    "    for i in range(n):\n",
    "        for j in range(n):\n",
    "            print(mat[i][j],end=' ')\n",
    "        print()\n",
    "\t\n",
    "\n",
    "# This code is contributed by ita_c\n"
   ]
  },
  {
   "cell_type": "code",
   "execution_count": null,
   "id": "ec8cdb67-ca59-490c-9419-3af364831b65",
   "metadata": {},
   "outputs": [],
   "source": []
  }
 ],
 "metadata": {
  "kernelspec": {
   "display_name": "Python 3 (ipykernel)",
   "language": "python",
   "name": "python3"
  },
  "language_info": {
   "codemirror_mode": {
    "name": "ipython",
    "version": 3
   },
   "file_extension": ".py",
   "mimetype": "text/x-python",
   "name": "python",
   "nbconvert_exporter": "python",
   "pygments_lexer": "ipython3",
   "version": "3.9.7"
  }
 },
 "nbformat": 4,
 "nbformat_minor": 5
}
