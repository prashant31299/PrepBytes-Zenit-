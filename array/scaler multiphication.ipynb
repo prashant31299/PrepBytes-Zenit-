{
 "cells": [
  {
   "cell_type": "code",
   "execution_count": 12,
   "id": "0a8b3ff7-ffd1-4003-945e-9525a900084e",
   "metadata": {},
   "outputs": [
    {
     "name": "stdout",
     "output_type": "stream",
     "text": [
      "4 8 12 \n",
      "16 20 24 \n",
      "28 32 36 \n",
      "[[4, 8, 12], [16, 20, 24], [28, 32, 36]]\n"
     ]
    }
   ],
   "source": [
    "# Program for scalar multiplication of a matrix\n",
    "\n",
    "def scalerM(mat ,k):\n",
    "    n=len(mat)\n",
    "    for i in range(n):\n",
    "        for j in range(n):\n",
    "            mat[i][j]=mat[i][j]*k \n",
    "    \n",
    "mat =[[ 1, 2, 3 ],\n",
    "    [ 4, 5, 6 ],\n",
    "    [ 7, 8, 9 ]]\n",
    "k = 4\n",
    "scalerM(mat,k)\n",
    "n=len(mat)\n",
    "\n",
    "for i in range(n):\n",
    "    for j in range(n):\n",
    "        print(mat[i][j],end=' ')\n",
    "    print()\n",
    "print(mat)\n",
    "\n"
   ]
  },
  {
   "cell_type": "code",
   "execution_count": 16,
   "id": "ec8cdb67-ca59-490c-9419-3af364831b65",
   "metadata": {},
   "outputs": [
    {
     "name": "stdout",
     "output_type": "stream",
     "text": [
      "4 8 12 \n",
      "16 20 24 \n",
      "28 32 36 \n"
     ]
    }
   ],
   "source": [
    "from traceback import print_tb\n",
    "\n",
    "\n",
    "n,m = map(int,input().split())\n",
    "k = int(input())\n",
    "mat1=[]\n",
    "for i in range(n):\n",
    "    mat1.append(list(map(int,input().split())))\n",
    "for i in range(n):\n",
    "    for j in range(n):\n",
    "        mat1[i][j]= mat1[i][j]* k \n",
    "for i in range(n):\n",
    "    for j in range(n):\n",
    "        print(mat[i][j], end=' ')\n",
    "    print()\n"
   ]
  },
  {
   "cell_type": "code",
   "execution_count": null,
   "id": "98b9c8eb",
   "metadata": {},
   "outputs": [],
   "source": []
  }
 ],
 "metadata": {
  "kernelspec": {
   "display_name": "Python 3.8.9 64-bit",
   "language": "python",
   "name": "python3"
  },
  "language_info": {
   "codemirror_mode": {
    "name": "ipython",
    "version": 3
   },
   "file_extension": ".py",
   "mimetype": "text/x-python",
   "name": "python",
   "nbconvert_exporter": "python",
   "pygments_lexer": "ipython3",
   "version": "3.9.6"
  },
  "vscode": {
   "interpreter": {
    "hash": "31f2aee4e71d21fbe5cf8b01ff0e069b9275f58929596ceb00d14d90e3e16cd6"
   }
  }
 },
 "nbformat": 4,
 "nbformat_minor": 5
}
