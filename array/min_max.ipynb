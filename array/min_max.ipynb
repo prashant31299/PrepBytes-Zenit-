{
 "cells": [
  {
   "cell_type": "code",
   "execution_count": 14,
   "id": "9d1840a7-4dc4-4821-8488-51056135653a",
   "metadata": {},
   "outputs": [
    {
     "name": "stdin",
     "output_type": "stream",
     "text": [
      " 1 \n",
      " 4\n",
      " 1 4 2 5\n"
     ]
    },
    {
     "name": "stdout",
     "output_type": "stream",
     "text": [
      "1 5\n"
     ]
    }
   ],
   "source": [
    "t=int(input())\n",
    "while(t>0):\n",
    "    n=int(input())\n",
    "    arr=list(map(int,input().split()))\n",
    "    min=11111\n",
    "    max=0\n",
    "    for i in range(n):\n",
    "        if arr[i]>max:\n",
    "            max=arr[i]\n",
    "        if arr[i]<min:\n",
    "            min=arr[i]\n",
    "    print(min,max)\n",
    "    t=t-1"
   ]
  },
  {
   "cell_type": "code",
   "execution_count": 15,
   "id": "6e4065dd-00ee-4a8d-bbda-f2ded91a1861",
   "metadata": {},
   "outputs": [
    {
     "name": "stdout",
     "output_type": "stream",
     "text": [
      "['a', '@', 'b@c@d']\n",
      "['a', 'b', 'c', 'd']\n"
     ]
    }
   ],
   "source": [
    "s=\"a@b@c@d\"\n",
    "a=list(s.partition(\"@\"))\n",
    "print(a)\n",
    "b=list(s.split(\"@\",3))\n",
    "print(b)"
   ]
  },
  {
   "cell_type": "code",
   "execution_count": null,
   "id": "db37385b-256b-4ea9-b629-8669612c621d",
   "metadata": {},
   "outputs": [],
   "source": []
  },
  {
   "cell_type": "code",
   "execution_count": null,
   "id": "5a9331f6-2d99-464f-95c5-d82f30a9b7e6",
   "metadata": {},
   "outputs": [],
   "source": []
  },
  {
   "cell_type": "code",
   "execution_count": null,
   "id": "3ce37f49-262b-463c-a415-446d0597a8e7",
   "metadata": {},
   "outputs": [],
   "source": []
  },
  {
   "cell_type": "code",
   "execution_count": null,
   "id": "9cc820b9-a3da-4783-b256-4e45262e2b4c",
   "metadata": {},
   "outputs": [],
   "source": []
  },
  {
   "cell_type": "code",
   "execution_count": null,
   "id": "2fe08b18-436e-41b2-8bf4-3118e12d4c88",
   "metadata": {},
   "outputs": [],
   "source": []
  }
 ],
 "metadata": {
  "kernelspec": {
   "display_name": "Python 3 (ipykernel)",
   "language": "python",
   "name": "python3"
  },
  "language_info": {
   "codemirror_mode": {
    "name": "ipython",
    "version": 3
   },
   "file_extension": ".py",
   "mimetype": "text/x-python",
   "name": "python",
   "nbconvert_exporter": "python",
   "pygments_lexer": "ipython3",
   "version": "3.9.7"
  }
 },
 "nbformat": 4,
 "nbformat_minor": 5
}
