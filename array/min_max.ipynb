{
 "cells": [
  {
   "cell_type": "code",
   "execution_count": 12,
   "id": "9d1840a7-4dc4-4821-8488-51056135653a",
   "metadata": {},
   "outputs": [
    {
     "name": "stdin",
     "output_type": "stream",
     "text": [
      " 1\n",
      " 1\n",
      " 2 3 4 5 \n"
     ]
    },
    {
     "name": "stdout",
     "output_type": "stream",
     "text": [
      "2 2\n"
     ]
    }
   ],
   "source": [
    "t=int(input())\n",
    "while(t>0):\n",
    "    n=int(input())\n",
    "    arr=list(map(int,input().split()))\n",
    "    min=11111\n",
    "    max=0\n",
    "    for i in range(n):\n",
    "        if arr[i]>max:\n",
    "            max=arr[i]\n",
    "        if arr[i]<min:\n",
    "            min=arr[i]\n",
    "    print(min,max)\n",
    "    t=t-1"
   ]
  },
  {
   "cell_type": "code",
   "execution_count": null,
   "id": "6e4065dd-00ee-4a8d-bbda-f2ded91a1861",
   "metadata": {},
   "outputs": [],
   "source": []
  }
 ],
 "metadata": {
  "kernelspec": {
   "display_name": "Python 3 (ipykernel)",
   "language": "python",
   "name": "python3"
  },
  "language_info": {
   "codemirror_mode": {
    "name": "ipython",
    "version": 3
   },
   "file_extension": ".py",
   "mimetype": "text/x-python",
   "name": "python",
   "nbconvert_exporter": "python",
   "pygments_lexer": "ipython3",
   "version": "3.9.7"
  }
 },
 "nbformat": 4,
 "nbformat_minor": 5
}
