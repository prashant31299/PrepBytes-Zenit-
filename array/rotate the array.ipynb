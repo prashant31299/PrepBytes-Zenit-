{
 "cells": [
  {
   "cell_type": "code",
   "execution_count": 7,
   "id": "7b584977-baf2-4cee-b517-bab763d73d65",
   "metadata": {},
   "outputs": [
    {
     "name": "stdin",
     "output_type": "stream",
     "text": [
      " 1\n",
      " 4 2\n",
      " 1 2 3 4\n"
     ]
    },
    {
     "name": "stdout",
     "output_type": "stream",
     "text": [
      "3 4 1 2 \n"
     ]
    }
   ],
   "source": [
    "def rightR(arr,n):\n",
    "    temp=arr[n-1]\n",
    "    for i in range(n-1,0,-1):\n",
    "        arr[i]=arr[i-1]\n",
    "    arr[0]=temp\n",
    "\n",
    "def printT(arr,n):\n",
    "    for i in range(n):\n",
    "        print(arr[i],end=' ')\n",
    "    print()\n",
    "    \n",
    "    \n",
    "\n",
    "def main():\n",
    "    t=int(input())\n",
    "    while(t>0):\n",
    "        n,k=map(int,input().split())\n",
    "        arr=list(map(int,input().split()))\n",
    "        for i in range(k):\n",
    "            rightR(arr,n)\n",
    "        printT(arr,n)\n",
    "        t=t-1\n",
    "\n",
    "if __name__ == '__main__':\n",
    "    main()\n",
    "        \n",
    "        \n",
    "    "
   ]
  },
  {
   "cell_type": "code",
   "execution_count": null,
   "id": "9fbdeb54-1d29-452f-a50b-05539de24e35",
   "metadata": {},
   "outputs": [],
   "source": []
  }
 ],
 "metadata": {
  "kernelspec": {
   "display_name": "Python 3 (ipykernel)",
   "language": "python",
   "name": "python3"
  },
  "language_info": {
   "codemirror_mode": {
    "name": "ipython",
    "version": 3
   },
   "file_extension": ".py",
   "mimetype": "text/x-python",
   "name": "python",
   "nbconvert_exporter": "python",
   "pygments_lexer": "ipython3",
   "version": "3.9.7"
  }
 },
 "nbformat": 4,
 "nbformat_minor": 5
}
