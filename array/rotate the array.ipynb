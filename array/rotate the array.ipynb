{
 "cells": [
  {
   "cell_type": "code",
   "execution_count": 22,
   "id": "7b584977-baf2-4cee-b517-bab763d73d65",
   "metadata": {},
   "outputs": [
    {
     "name": "stdin",
     "output_type": "stream",
     "text": [
      " 1\n",
      " 2 2\n",
      " 2 3 4\n"
     ]
    },
    {
     "name": "stdout",
     "output_type": "stream",
     "text": [
      "2 3 \n"
     ]
    }
   ],
   "source": [
    "def rightR(arr,n):\n",
    "    temp=arr[n-1]\n",
    "    for i in range(n-1,0,-1):\n",
    "        arr[i]=arr[i-1]\n",
    "    arr[0]=temp\n",
    "\n",
    "def printT(arr,n):\n",
    "    for i in range(n):\n",
    "        print(arr[i],end=' ')\n",
    "    print()\n",
    "    \n",
    "    \n",
    "\n",
    "def main():\n",
    "    t=int(input())\n",
    "    while(t>0):\n",
    "        n,k=map(int,input().split())\n",
    "        arr=list(map(int,input().split()))\n",
    "        for i in range(k):\n",
    "            rightR(arr,n)\n",
    "        printT(arr,n)\n",
    "        t=t-1\n",
    "\n",
    "if __name__ == '__main__':\n",
    "    main()\n",
    "        \n",
    "        \n",
    "    "
   ]
  },
  {
   "cell_type": "code",
   "execution_count": 12,
   "id": "9fbdeb54-1d29-452f-a50b-05539de24e35",
   "metadata": {},
   "outputs": [
    {
     "name": "stdout",
     "output_type": "stream",
     "text": [
      "5\n",
      "[4, 5, 1, 2, 3]\n"
     ]
    }
   ],
   "source": [
    "def rot(arr,n):\n",
    "    temp=arr[n-1]\n",
    "    for i in range(n-1,0,-1):\n",
    "        arr[i]=arr[i-1]\n",
    "    arr[0]=temp\n",
    "def rotate():\n",
    "    k=2\n",
    "    arr=[1,2,3,4,5]\n",
    "    print(len(arr))\n",
    "    for i in range(k):\n",
    "        rot(arr,len(arr))\n",
    "    print(arr)\n",
    "\n",
    "rotate()\n"
   ]
  },
  {
   "cell_type": "code",
   "execution_count": 21,
   "id": "97a517b3-1b7a-495b-89d4-9d8a4cc7fc15",
   "metadata": {},
   "outputs": [
    {
     "name": "stdout",
     "output_type": "stream",
     "text": [
      "[1, 2, 3, 4, 4]\n",
      "[1, 2, 3, 3, 4]\n",
      "[1, 2, 2, 3, 4]\n",
      "[1, 1, 2, 3, 4]\n",
      "[5, 1, 2, 3, 4]\n",
      "[5, 1, 2, 3, 3]\n",
      "[5, 1, 2, 2, 3]\n",
      "[5, 1, 1, 2, 3]\n",
      "[5, 5, 1, 2, 3]\n",
      "[4, 5, 1, 2, 3]\n"
     ]
    }
   ],
   "source": [
    "def rot(arr,n):\n",
    "    temp=arr[n-1]\n",
    "    for i in range(n-1,0,-1):\n",
    "        arr[i]=arr[i-1]\n",
    "        print(arr)\n",
    "    arr[0]=temp\n",
    "    print(arr)\n",
    "    \n",
    "arr=[1,2,3,4,5]\n",
    "n=len(arr)\n",
    "for i in range(2):\n",
    "    rot(arr,n)\n",
    "# print(arr)"
   ]
  },
  {
   "cell_type": "code",
   "execution_count": 39,
   "id": "a530fb91-2e44-4e06-a945-bf3f3239ac51",
   "metadata": {},
   "outputs": [
    {
     "name": "stdout",
     "output_type": "stream",
     "text": [
      "4\n",
      "3\n",
      "2\n",
      "1\n",
      "[5, 1, 2, 3, 4]\n"
     ]
    }
   ],
   "source": [
    "arr=[1,2,3,4,5]\n",
    "for i in range(len(arr)-1,0,-1):\n",
    "    arr[i]=arr[i-1]\n",
    "    \n",
    "    print(i)\n",
    "arr[0]=5\n",
    "\n",
    "print(arr)"
   ]
  },
  {
   "cell_type": "code",
   "execution_count": 13,
   "id": "e3184277-386d-4903-ab79-25f6d81ee8de",
   "metadata": {},
   "outputs": [
    {
     "name": "stdout",
     "output_type": "stream",
     "text": [
      "[4, 5, 1, 2, 3]\n"
     ]
    }
   ],
   "source": [
    "#optimize approach \n",
    "def rot(arr,i,j):\n",
    "    while(i<j):\n",
    "        temp=arr[i]\n",
    "        arr[i]=arr[j]\n",
    "        arr[j]=temp\n",
    "        i+=1\n",
    "        j-=1\n",
    "def rotate(arr,k):\n",
    "    n=len(arr)\n",
    "    rot(arr,n-k,n-1)\n",
    "    rot(arr,0,n-k-1)\n",
    "    rot(arr,0,n-1)\n",
    "    print(arr)\n",
    "arr=[1,2,3,4,5]\n",
    "k=2\n",
    "rotate(arr,k)\n",
    "\n",
    "    \n",
    "    "
   ]
  },
  {
   "cell_type": "code",
   "execution_count": 1,
   "id": "fdaca09a-b6c4-43b1-a5a8-0dbfe3e39c87",
   "metadata": {},
   "outputs": [
    {
     "name": "stdin",
     "output_type": "stream",
     "text": [
      " 1\n",
      " 5 2\n",
      " 1 2 3 4 5\n"
     ]
    },
    {
     "name": "stdout",
     "output_type": "stream",
     "text": [
      "[4, 5, 1, 2, 3]\n"
     ]
    }
   ],
   "source": [
    "def reverseR(arr,i,j):\n",
    "    while(i<j):\n",
    "        temp=arr[i]\n",
    "        arr[i]=arr[j]\n",
    "        arr[j]=temp\n",
    "        i+=1\n",
    "        j-=1\n",
    "        \n",
    "\n",
    "def main():\n",
    "    t=int(input())\n",
    "    while (t>0):\n",
    "        n,k=list(map(int,input().split()))\n",
    "        arr=list(map(int,input().split()))\n",
    "        reverseR(arr,n-k,n-1)\n",
    "        reverseR(arr,0,n-k-1)\n",
    "        reverseR(arr,0,n-1)\n",
    "        t=t-1\n",
    "    print(arr)\n",
    "main()"
   ]
  },
  {
   "cell_type": "code",
   "execution_count": 3,
   "id": "5b215df9-c7d3-4ead-9bf4-1c1fc53ef926",
   "metadata": {},
   "outputs": [
    {
     "name": "stdin",
     "output_type": "stream",
     "text": [
      " 1\n",
      " 4 1\n",
      " 1 2 3 4 \n"
     ]
    },
    {
     "name": "stdout",
     "output_type": "stream",
     "text": [
      "[2, 3, 4, 1]\n"
     ]
    }
   ],
   "source": [
    "# code for left rotation?\n",
    "\n",
    "\n",
    "def reverseL(arr,i,j):\n",
    "    while(i<j):\n",
    "        temp=arr[i]\n",
    "        arr[i]=arr[j]\n",
    "        arr[j]=temp\n",
    "        i+=1\n",
    "        j-=1\n",
    "        \n",
    "\n",
    "def main():\n",
    "    t=int(input())\n",
    "    while (t>0):\n",
    "        n,k=list(map(int,input().split()))\n",
    "        arr=list(map(int,input().split()))\n",
    "        reverseL(arr,0,k-1)\n",
    "        reverseL(arr,k,n-1)\n",
    "        reverseL(arr,0,n-1)\n",
    "        t=t-1\n",
    "    print(arr)\n",
    "main()"
   ]
  },
  {
   "cell_type": "code",
   "execution_count": null,
   "id": "86e13532-ab28-45aa-b1bc-243c432e8f6a",
   "metadata": {},
   "outputs": [],
   "source": []
  },
  {
   "cell_type": "code",
   "execution_count": null,
   "id": "ea03f174-745e-4442-8ccf-cb5586602db6",
   "metadata": {},
   "outputs": [],
   "source": []
  },
  {
   "cell_type": "code",
   "execution_count": null,
   "id": "bb85322c-7f47-483a-b995-d69a99eadba7",
   "metadata": {},
   "outputs": [],
   "source": []
  }
 ],
 "metadata": {
  "kernelspec": {
   "display_name": "Python 3 (ipykernel)",
   "language": "python",
   "name": "python3"
  },
  "language_info": {
   "codemirror_mode": {
    "name": "ipython",
    "version": 3
   },
   "file_extension": ".py",
   "mimetype": "text/x-python",
   "name": "python",
   "nbconvert_exporter": "python",
   "pygments_lexer": "ipython3",
   "version": "3.9.7"
  }
 },
 "nbformat": 4,
 "nbformat_minor": 5
}
