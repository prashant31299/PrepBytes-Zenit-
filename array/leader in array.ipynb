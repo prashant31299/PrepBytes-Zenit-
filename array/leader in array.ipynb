{
 "cells": [
  {
   "cell_type": "code",
   "execution_count": null,
   "id": "48b0ac51-5ee2-46f9-9ef2-0a44c609644a",
   "metadata": {},
   "outputs": [
    {
     "name": "stdin",
     "output_type": "stream",
     "text": [
      " 2 \n",
      " 4\n",
      " 1 2 3 4\n"
     ]
    },
    {
     "name": "stdout",
     "output_type": "stream",
     "text": [
      "2 3 "
     ]
    }
   ],
   "source": [
    "t= int(input())\n",
    "while(t>0):\n",
    "    n=int(input())\n",
    "    arr=list(map(int,input().split()))\n",
    "    size=len(arr)-1\n",
    "    for i in range(0, size):\n",
    "        for j in range(i+1, size):\n",
    "            if arr[i]<=arr[j]:\n",
    "                break\n",
    "        if j == size-1: # If loop didn't break\n",
    "            print (arr[i],end=' ')\n",
    "\n",
    "        # if j == size-1: # If loop didn't break \n",
    "        #     print (arr[i],end=' ') \n",
    "    t=t-1\n",
    "    "
   ]
  },
  {
   "cell_type": "code",
   "execution_count": 12,
   "id": "92d648b9-457b-4f2a-908b-b4fa8b1b6988",
   "metadata": {},
   "outputs": [
    {
     "name": "stdout",
     "output_type": "stream",
     "text": [
      "17 5 2 "
     ]
    }
   ],
   "source": [
    "# Python Function to print leaders in array\n",
    "\n",
    "def printLeaders(arr,size):\n",
    "\t\n",
    "\tfor i in range(0, size):\n",
    "\t\tfor j in range(i+1, size):\n",
    "\t\t\tif arr[i]<=arr[j]:\n",
    "\t\t\t\tbreak\n",
    "\t\tif j == size-1: # If loop didn't break\n",
    "\t\t\tprint (arr[i],end=' ')\n",
    "\n",
    "# Driver function\n",
    "arr=[16, 17, 4, 3, 5, 2]\n",
    "printLeaders(arr, len(arr))\n",
    "\n",
    "# This code is contributed by _Devesh Agrawal__\n"
   ]
  },
  {
   "cell_type": "code",
   "execution_count": null,
   "id": "32052e31-aaa8-44f3-9fb8-3bb79f857c85",
   "metadata": {},
   "outputs": [],
   "source": []
  },
  {
   "cell_type": "code",
   "execution_count": null,
   "id": "415a34c6-aded-4dda-b060-3512d1b1b23a",
   "metadata": {},
   "outputs": [],
   "source": []
  },
  {
   "cell_type": "code",
   "execution_count": null,
   "id": "6d6b7c45-9c17-49b3-83e9-8fc072221bcf",
   "metadata": {},
   "outputs": [],
   "source": []
  }
 ],
 "metadata": {
  "kernelspec": {
   "display_name": "Python 3 (ipykernel)",
   "language": "python",
   "name": "python3"
  },
  "language_info": {
   "codemirror_mode": {
    "name": "ipython",
    "version": 3
   },
   "file_extension": ".py",
   "mimetype": "text/x-python",
   "name": "python",
   "nbconvert_exporter": "python",
   "pygments_lexer": "ipython3",
   "version": "3.9.7"
  }
 },
 "nbformat": 4,
 "nbformat_minor": 5
}
