{
 "cells": [
  {
   "cell_type": "code",
   "execution_count": 4,
   "id": "1fadd1e5",
   "metadata": {},
   "outputs": [
    {
     "name": "stdout",
     "output_type": "stream",
     "text": [
      "4 3 2 "
     ]
    }
   ],
   "source": [
    "def laderinarray(arr,size):\n",
    "    for i in range(0, size):\n",
    "        for j in range(i+1, size):\n",
    "            if arr[i]<=arr[j]:\n",
    "                break\n",
    "        if j == size-1: # If loop didn't break\n",
    "            print (arr[i],end=' ')\n",
    "            \n",
    "            \n",
    "t= int(input())\n",
    "while(t>0):\n",
    "    n=int(input())\n",
    "    arr=list(map(int,input().split()))\n",
    "    size=len(arr)\n",
    "    laderinarray(arr,size)\n",
    "\n",
    "    t=t-1\n",
    "    "
   ]
  },
  {
   "cell_type": "markdown",
   "id": "62c90425",
   "metadata": {},
   "source": []
  }
 ],
 "metadata": {
  "kernelspec": {
   "display_name": "Python 3.9.7 ('base')",
   "language": "python",
   "name": "python3"
  },
  "language_info": {
   "codemirror_mode": {
    "name": "ipython",
    "version": 3
   },
   "file_extension": ".py",
   "mimetype": "text/x-python",
   "name": "python",
   "nbconvert_exporter": "python",
   "pygments_lexer": "ipython3",
   "version": "3.9.7"
  },
  "vscode": {
   "interpreter": {
    "hash": "84129655c039cdc609eff4947a443e18daa48d29053ccc3d8283615438a60ab8"
   }
  }
 },
 "nbformat": 4,
 "nbformat_minor": 5
}
