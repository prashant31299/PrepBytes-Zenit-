{
 "cells": [
  {
   "cell_type": "code",
   "execution_count": 37,
   "id": "c3ce0d04-7b6c-4d28-b01d-8e9607c0a7ce",
   "metadata": {},
   "outputs": [
    {
     "name": "stdout",
     "output_type": "stream",
     "text": [
      "{3: 2, 2: 2, 1: 1, 4: 1}\n",
      "[1, 4]\n"
     ]
    }
   ],
   "source": [
    "def getunique(arr):\n",
    "    resdict={}\n",
    "    arr1=[]\n",
    "    for ele in arr:\n",
    "        if ele in resdict:\n",
    "            resdict[ele]+=1\n",
    "        else:\n",
    "            resdict[ele]=1\n",
    "        \n",
    "        \n",
    "    print(resdict)\n",
    "    for i in resdict:\n",
    "        if resdict[i]==1:\n",
    "            arr1.append(i)\n",
    "    print(arr1)\n",
    "arr=[3,2,1,4,2,3]\n",
    "getunique(arr)\n",
    "\n",
    "            "
   ]
  },
  {
   "cell_type": "code",
   "execution_count": null,
   "id": "a09aaea7-7a7f-44d3-8f2a-3223aa713dc7",
   "metadata": {},
   "outputs": [],
   "source": []
  },
  {
   "cell_type": "code",
   "execution_count": null,
   "id": "05289627-4889-4396-b093-a2288070f96d",
   "metadata": {},
   "outputs": [],
   "source": []
  },
  {
   "cell_type": "code",
   "execution_count": null,
   "id": "686be2a3-4441-415e-a916-c9a1a924329a",
   "metadata": {},
   "outputs": [],
   "source": []
  }
 ],
 "metadata": {
  "kernelspec": {
   "display_name": "Python 3 (ipykernel)",
   "language": "python",
   "name": "python3"
  },
  "language_info": {
   "codemirror_mode": {
    "name": "ipython",
    "version": 3
   },
   "file_extension": ".py",
   "mimetype": "text/x-python",
   "name": "python",
   "nbconvert_exporter": "python",
   "pygments_lexer": "ipython3",
   "version": "3.9.7"
  }
 },
 "nbformat": 4,
 "nbformat_minor": 5
}
