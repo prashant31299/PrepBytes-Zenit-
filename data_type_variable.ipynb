{
 "cells": [
  {
   "cell_type": "markdown",
   "metadata": {},
   "source": [
    "### data type and variables \n"
   ]
  },
  {
   "cell_type": "code",
   "execution_count": null,
   "metadata": {},
   "outputs": [],
   "source": [
    "# In programming, data type is an important concept.\n",
    "# Variables can store data of different types, and different types can do different things.\n",
    "\n",
    "# Python has the following data types built-in by default, in these categories:\n"
   ]
  },
  {
   "cell_type": "code",
   "execution_count": 11,
   "metadata": {},
   "outputs": [
    {
     "name": "stdout",
     "output_type": "stream",
     "text": [
      "hallow python 12 22.22 1j\n",
      "<class 'str'>\n",
      "<class 'int'>\n",
      "<class 'float'>\n",
      "<class 'complex'>\n"
     ]
    }
   ],
   "source": [
    "a= \"hallow python\"\n",
    "B=12\n",
    "C=22.22\n",
    "D=1j\n",
    "print(a,B,C,D)\n",
    "print(type(a))\n",
    "print(type(B))\n",
    "print(type(C))\n",
    "print(type(D))\n"
   ]
  },
  {
   "cell_type": "markdown",
   "metadata": {},
   "source": [
    "### Arithmetical oprators \n"
   ]
  },
  {
   "cell_type": "code",
   "execution_count": 14,
   "metadata": {},
   "outputs": [
    {
     "name": "stdout",
     "output_type": "stream",
     "text": [
      "1 7 16 1.0\n"
     ]
    }
   ],
   "source": [
    "# Python Arithmetic Operators\n",
    "a=4-3\n",
    "b=4+3\n",
    "c=4*4\n",
    "d=4/4\n",
    "e= 4//4\n",
    "print(a,b,c,d)"
   ]
  },
  {
   "cell_type": "code",
   "execution_count": 19,
   "metadata": {},
   "outputs": [
    {
     "name": "stdout",
     "output_type": "stream",
     "text": [
      "0\n",
      "1\n",
      "1.4\n"
     ]
    }
   ],
   "source": [
    "a=4\n",
    "b=5\n",
    "c=9.0\n",
    "d=7\n",
    "print(a%a)\n",
    "print(b%a)\n",
    "print(d/b)"
   ]
  },
  {
   "cell_type": "markdown",
   "metadata": {},
   "source": [
    "\n",
    "### bitwise oprator "
   ]
  },
  {
   "cell_type": "markdown",
   "metadata": {},
   "source": [
    "& ==> If both bits are 1 then only result is 1 otherwise result is 0\n",
    "\n",
    "| ==> If atleast one bit is 1 then result is 1 otherwise result is 0\n",
    "\n",
    "^ ==>If bits are different then only result is 1 otherwise result is 0"
   ]
  },
  {
   "cell_type": "code",
   "execution_count": 1,
   "metadata": {},
   "outputs": [
    {
     "name": "stdout",
     "output_type": "stream",
     "text": [
      "2\n",
      "7\n",
      "1\n"
     ]
    }
   ],
   "source": [
    "print(2&2)\n",
    "print(3|4)\n",
    "print(5^4)"
   ]
  },
  {
   "cell_type": "code",
   "execution_count": null,
   "metadata": {},
   "outputs": [],
   "source": [
    "### user inout\n"
   ]
  },
  {
   "cell_type": "code",
   "execution_count": 3,
   "metadata": {},
   "outputs": [
    {
     "name": "stdin",
     "output_type": "stream",
     "text": [
      "enter name prahsnt chavan\n"
     ]
    },
    {
     "name": "stdout",
     "output_type": "stream",
     "text": [
      "prahsnt chavan\n"
     ]
    }
   ],
   "source": [
    "username =input('enter name' )\n",
    "print(username)"
   ]
  },
  {
   "cell_type": "code",
   "execution_count": 10,
   "metadata": {},
   "outputs": [
    {
     "name": "stdin",
     "output_type": "stream",
     "text": [
      " 44\n"
     ]
    },
    {
     "name": "stdout",
     "output_type": "stream",
     "text": [
      "<class 'str'>\n"
     ]
    },
    {
     "name": "stdin",
     "output_type": "stream",
     "text": [
      " 34\n"
     ]
    },
    {
     "name": "stdout",
     "output_type": "stream",
     "text": [
      "<class 'int'>\n"
     ]
    }
   ],
   "source": [
    "# string input\n",
    "input_a = input()\n",
    "\n",
    "# print type\n",
    "print(type(input_a))\n",
    "\n",
    "# integer input\n",
    "input_b = int(input())\n",
    "\n",
    "# print type\n",
    "print(type(input_b))\n"
   ]
  },
  {
   "cell_type": "code",
   "execution_count": 12,
   "metadata": {},
   "outputs": [
    {
     "name": "stdin",
     "output_type": "stream",
     "text": [
      "jg 7\n"
     ]
    },
    {
     "name": "stdout",
     "output_type": "stream",
     "text": [
      "7\n"
     ]
    }
   ],
   "source": [
    "intb=int(input('jg'))\n",
    "print(intb)"
   ]
  },
  {
   "cell_type": "code",
   "execution_count": 14,
   "metadata": {},
   "outputs": [
    {
     "name": "stdin",
     "output_type": "stream",
     "text": [
      " 4\n"
     ]
    },
    {
     "name": "stdout",
     "output_type": "stream",
     "text": [
      "4\n",
      "<class 'int'>\n"
     ]
    }
   ],
   "source": [
    "A=int(input())\n",
    "print(A)\n",
    "print(type(A))"
   ]
  },
  {
   "cell_type": "code",
   "execution_count": 17,
   "metadata": {},
   "outputs": [
    {
     "name": "stdin",
     "output_type": "stream",
     "text": [
      " 4 5 6\n"
     ]
    },
    {
     "name": "stdout",
     "output_type": "stream",
     "text": [
      "4$5.00$6\n",
      "<class 'str'>\n",
      "<class 'float'>\n",
      "<class 'int'>\n"
     ]
    }
   ],
   "source": [
    "A,B,C= input().split()\n",
    "A=int(A)\n",
    "B=float(B)\n",
    "print(\"%d$%.2f$%c\"%(A,B,C))\n",
    "\n",
    "\n",
    "print(type(C))\n",
    "print(type(B))\n",
    "print(type(A))"
   ]
  },
  {
   "cell_type": "code",
   "execution_count": 19,
   "metadata": {},
   "outputs": [
    {
     "name": "stdout",
     "output_type": "stream",
     "text": [
      "(1, 2, 3, 4)\n"
     ]
    }
   ],
   "source": [
    "print((1, 2) + (3, 4))"
   ]
  },
  {
   "cell_type": "markdown",
   "metadata": {},
   "source": [
    "### LIST \n",
    "\n"
   ]
  },
  {
   "cell_type": "code",
   "execution_count": 20,
   "metadata": {},
   "outputs": [
    {
     "name": "stdout",
     "output_type": "stream",
     "text": [
      "['a', 'b', 'c', 'd', 'e']\n"
     ]
    }
   ],
   "source": [
    "list=['a','b','c','d','e']\n",
    "print(list)"
   ]
  },
  {
   "cell_type": "code",
   "execution_count": 27,
   "metadata": {},
   "outputs": [
    {
     "name": "stdout",
     "output_type": "stream",
     "text": [
      "e\n",
      "c\n",
      "d\n",
      "c\n"
     ]
    }
   ],
   "source": [
    "#indexing\n",
    "list=['a','b','c','d','e']\n",
    "print(list[4])\n",
    "print(list[2])\n",
    "print(list[-2])\n",
    "print(list[-3])"
   ]
  },
  {
   "cell_type": "markdown",
   "metadata": {},
   "source": [
    "### slicing\n"
   ]
  },
  {
   "cell_type": "code",
   "execution_count": 6,
   "metadata": {},
   "outputs": [
    {
     "name": "stdout",
     "output_type": "stream",
     "text": [
      "['r', 'o', 'g', 'r']\n",
      "['g', 'r', 'a']\n",
      "['r', 'a', 'm']\n",
      "['g', 'r', 'a', 'm', 'i']\n",
      "['p', 'o', 'r', 'm', 'z']\n",
      "['p', 'o', 'r', 'm', 'z']\n",
      "['p', 'r', 'o']\n",
      "['z', 'i', 'm', 'a', 'r', 'g', 'o', 'r', 'p']\n",
      "['z', 'm', 'r', 'o']\n"
     ]
    }
   ],
   "source": [
    "li = ['p','r','o','g','r','a','m','i','z']\n",
    "print(li[1:5])\n",
    "print(li[3:-3])\n",
    "print(li[4:-2])\n",
    "print(li[3:-1])\n",
    "print(li[0::2])\n",
    "print(li[0::2])\n",
    "print(li[-9:3])\n",
    "print(li[::-1])\n",
    "print(li[8:0:-2])\n"
   ]
  },
  {
   "cell_type": "code",
   "execution_count": 9,
   "metadata": {},
   "outputs": [
    {
     "name": "stdout",
     "output_type": "stream",
     "text": [
      "True\n",
      "False\n"
     ]
    }
   ],
   "source": [
    "print('r' in li)\n",
    "print('r' not in li)"
   ]
  },
  {
   "cell_type": "code",
   "execution_count": null,
   "metadata": {},
   "outputs": [],
   "source": [
    "li=li+['A',"
   ]
  }
 ],
 "metadata": {
  "kernelspec": {
   "display_name": "Python 3 (ipykernel)",
   "language": "python",
   "name": "python3"
  },
  "language_info": {
   "codemirror_mode": {
    "name": "ipython",
    "version": 3
   },
   "file_extension": ".py",
   "mimetype": "text/x-python",
   "name": "python",
   "nbconvert_exporter": "python",
   "pygments_lexer": "ipython3",
   "version": "3.9.7"
  },
  "vscode": {
   "interpreter": {
    "hash": "f1f956e463fd54c71db79b75f95a8a8afb491ce55d6b234f421f981642d19996"
   }
  }
 },
 "nbformat": 4,
 "nbformat_minor": 4
}
