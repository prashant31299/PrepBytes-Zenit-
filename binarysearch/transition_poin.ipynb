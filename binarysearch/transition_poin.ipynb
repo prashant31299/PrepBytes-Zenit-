{
 "cells": [
  {
   "cell_type": "code",
   "execution_count": 13,
   "metadata": {},
   "outputs": [
    {
     "name": "stdout",
     "output_type": "stream",
     "text": [
      "-1\n"
     ]
    }
   ],
   "source": [
    "def transition(arr,n):\n",
    "  low =0\n",
    "  high=-1\n",
    "  tp=-1\n",
    "  while ( low< high):\n",
    "    mid=low+(high-low)//2\n",
    "    if arr[mid]==1:\n",
    "      tp=mid\n",
    "      high=mid-1\n",
    "    else:\n",
    "      low=mid+1\n",
    "  return tp\n",
    "\n",
    "def main():\n",
    "    t=int(input())\n",
    "    while t>0:\n",
    "        # n=int(input())\n",
    "        # arr=list(map(int,input().split()))\n",
    "        # ele=int(input())\n",
    "        arr=[0,0,1,1]\n",
    "        res=transition(arr,len(arr))\n",
    "        print(res)\n",
    "        t=t-1\n",
    "if __name__=='__main__':\n",
    "    main()"
   ]
  },
  {
   "cell_type": "code",
   "execution_count": 23,
   "metadata": {},
   "outputs": [
    {
     "name": "stdout",
     "output_type": "stream",
     "text": [
      "4\n"
     ]
    }
   ],
   "source": [
    "def transition(arr,n):\n",
    "  low =0\n",
    "  high=n\n",
    "  tp=-1\n",
    "  while ( low< high):\n",
    "    mid=low+(high-low)//2\n",
    "    if arr[mid]==1:\n",
    "      tp=mid\n",
    "      high=mid-1\n",
    "    else:\n",
    "      low=mid+1\n",
    "  return tp\n",
    "\n",
    "def main():\n",
    "    t=int(input())\n",
    "    while t>0:\n",
    "        # n=int(input())\n",
    "        # arr=list(map(int,input().split()))\n",
    "        # ele=int(input())\n",
    "        arr=[0,0,0,0,1]\n",
    "        n=len(arr)\n",
    "        res=transition(arr,n)\n",
    "        print(res)\n",
    "        t=t-1\n",
    "if __name__=='__main__':\n",
    "    main()"
   ]
  },
  {
   "cell_type": "code",
   "execution_count": 22,
   "metadata": {},
   "outputs": [
    {
     "name": "stdout",
     "output_type": "stream",
     "text": [
      "0 0\n",
      "0 1\n",
      "0 2\n",
      "0 3\n"
     ]
    }
   ],
   "source": [
    "arr=[0,0,0,0,1]\n",
    "# print(len(arr))\n",
    "for i in range(len(arr)):\n",
    "    print(arr[i],i)\n"
   ]
  },
  {
   "cell_type": "code",
   "execution_count": null,
   "metadata": {},
   "outputs": [],
   "source": []
  }
 ],
 "metadata": {
  "kernelspec": {
   "display_name": "Python 3.9.7 ('base')",
   "language": "python",
   "name": "python3"
  },
  "language_info": {
   "codemirror_mode": {
    "name": "ipython",
    "version": 3
   },
   "file_extension": ".py",
   "mimetype": "text/x-python",
   "name": "python",
   "nbconvert_exporter": "python",
   "pygments_lexer": "ipython3",
   "version": "3.9.7"
  },
  "orig_nbformat": 4,
  "vscode": {
   "interpreter": {
    "hash": "84129655c039cdc609eff4947a443e18daa48d29053ccc3d8283615438a60ab8"
   }
  }
 },
 "nbformat": 4,
 "nbformat_minor": 2
}
