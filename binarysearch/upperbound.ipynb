{
 "cells": [
  {
   "cell_type": "code",
   "execution_count": 3,
   "metadata": {},
   "outputs": [
    {
     "name": "stdout",
     "output_type": "stream",
     "text": [
      "3\n"
     ]
    }
   ],
   "source": [
    "def upperbound(arr,n,ele):\n",
    "    l=0\n",
    "    h=n\n",
    "    while(l<h):\n",
    "        mid=(l+h)//2\n",
    "        if ele >=arr[mid]:\n",
    "            l=mid+1\n",
    "        else:\n",
    "            h=mid\n",
    "    return l\n",
    "\n",
    "def main():\n",
    "    t=int(input())\n",
    "    while t>0:\n",
    "        n=int(input())\n",
    "        arr=list(map(int,input().split()))\n",
    "        ele=int(input())\n",
    "        res=upperbound(arr,n,ele)\n",
    "        print(res)\n",
    "        t=t-1\n",
    "if __name__=='__main__':\n",
    "    main()"
   ]
  },
  {
   "cell_type": "code",
   "execution_count": null,
   "metadata": {},
   "outputs": [],
   "source": []
  }
 ],
 "metadata": {
  "kernelspec": {
   "display_name": "Python 3.9.7 ('base')",
   "language": "python",
   "name": "python3"
  },
  "language_info": {
   "codemirror_mode": {
    "name": "ipython",
    "version": 3
   },
   "file_extension": ".py",
   "mimetype": "text/x-python",
   "name": "python",
   "nbconvert_exporter": "python",
   "pygments_lexer": "ipython3",
   "version": "3.9.7"
  },
  "orig_nbformat": 4,
  "vscode": {
   "interpreter": {
    "hash": "84129655c039cdc609eff4947a443e18daa48d29053ccc3d8283615438a60ab8"
   }
  }
 },
 "nbformat": 4,
 "nbformat_minor": 2
}
