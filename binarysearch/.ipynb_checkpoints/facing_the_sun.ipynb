{
 "cells": [
  {
   "cell_type": "code",
   "execution_count": null,
   "metadata": {},
   "outputs": [],
   "source": [
    "def transition(arr,n):\n",
    "  imax=arr[0]\n",
    "  count=1\n",
    "  for i in range(1,n):\n",
    "    if arr[i]> imax or arr[i]==imax:\n",
    "      count+=1\n",
    "      imax=arr[i]\n",
    "  return count\n",
    "  \n",
    "\n",
    "def main():\n",
    "    t=int(input())\n",
    "    while t>0:\n",
    "        n=int(input())\n",
    "        arr=list(map(int,input().split()))\n",
    "        # ele=int(input())\n",
    "        # arr=[0,0,1,1]\n",
    "        res=transition(arr,n)\n",
    "        print(res)\n",
    "        t=t-1\n",
    "if __name__=='__main__':\n",
    "    main()"
   ]
  }
 ],
 "metadata": {
  "language_info": {
   "name": "python"
  },
  "orig_nbformat": 4
 },
 "nbformat": 4,
 "nbformat_minor": 2
}
