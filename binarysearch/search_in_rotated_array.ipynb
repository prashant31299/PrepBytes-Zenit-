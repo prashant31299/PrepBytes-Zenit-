{
 "cells": [
  {
   "cell_type": "code",
   "execution_count": 6,
   "metadata": {},
   "outputs": [
    {
     "name": "stdout",
     "output_type": "stream",
     "text": [
      "Index of the element is :  -1\n"
     ]
    }
   ],
   "source": [
    "def Searchrotate(arr,n,t):\n",
    "    l=0\n",
    "    h=n-1\n",
    "    while ( l<=h):\n",
    "        mid=l+(h-l)//2\n",
    "\n",
    "        if arr[mid]==t:\n",
    "            return mid\n",
    "\n",
    "        elif arr[l] <=arr[mid]:\n",
    "            if t>=arr[l] and arr[mid] >t:\n",
    "                h=mid -1\n",
    "            else:\n",
    "                l=mid+1\n",
    "\n",
    "        elif (arr[mid] <= arr[h] ):\n",
    "            if t >= arr[mid] and arr[h] >=t:\n",
    "                l=mid+1\n",
    "            else:\n",
    "                h=mid-1\n",
    "    return -1\n",
    "\n",
    "\n",
    "if __name__ == '__main__':\n",
    "    arr1 = [5, 6, 7, 8, 9, 10, 1, 2, 3]\n",
    "    n = len(arr1)\n",
    "    key = 0\n",
    "    print(\"Index of the element is : \", \\\n",
    "          Searchrotate(arr1, n, key))\n",
    "        \n",
    "            \n",
    "\n"
   ]
  },
  {
   "cell_type": "code",
   "execution_count": 8,
   "metadata": {},
   "outputs": [
    {
     "name": "stdout",
     "output_type": "stream",
     "text": [
      "15\n"
     ]
    }
   ],
   "source": [
    "arr=[1,3,1,10,2,9]\n",
    "k=6\n",
    "count=0\n",
    "for i in range(len(arr)-1):\n",
    "\tif count <k:\n",
    "\t\tcount =count+arr[i]\n",
    "\telse:\n",
    "\t\tprint(count)\n",
    "\t"
   ]
  },
  {
   "cell_type": "code",
   "execution_count": null,
   "metadata": {},
   "outputs": [],
   "source": []
  }
 ],
 "metadata": {
  "kernelspec": {
   "display_name": "Python 3.9.7 ('base')",
   "language": "python",
   "name": "python3"
  },
  "language_info": {
   "codemirror_mode": {
    "name": "ipython",
    "version": 3
   },
   "file_extension": ".py",
   "mimetype": "text/x-python",
   "name": "python",
   "nbconvert_exporter": "python",
   "pygments_lexer": "ipython3",
   "version": "3.9.7"
  },
  "orig_nbformat": 4,
  "vscode": {
   "interpreter": {
    "hash": "84129655c039cdc609eff4947a443e18daa48d29053ccc3d8283615438a60ab8"
   }
  }
 },
 "nbformat": 4,
 "nbformat_minor": 2
}
