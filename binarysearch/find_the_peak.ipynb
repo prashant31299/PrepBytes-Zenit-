{
 "cells": [
  {
   "cell_type": "code",
   "execution_count": 8,
   "metadata": {},
   "outputs": [
    {
     "name": "stdout",
     "output_type": "stream",
     "text": [
      "3\n"
     ]
    }
   ],
   "source": [
    "def peakele(arr,n):\n",
    "    l=0\n",
    "    h=n-1\n",
    "    while(l<h):\n",
    "        m= (l+h)//2\n",
    "\n",
    "        if (m==0 or arr[m-1]<=arr[m] and m==n-1 or arr[m+1]<=arr[m]):\n",
    "            break\n",
    "        elif (m > 0 and arr[m-1] > arr[m]):\n",
    "            h=m-1\n",
    "        else:\n",
    "            l=m+1\n",
    "    return m\n",
    "\n",
    "def main():\n",
    "    t=int(input())\n",
    "    while t>0:\n",
    "        n,=list(map(int,input().split()))\n",
    "\n",
    "        arr=list(map(int,input().split()))\n",
    "        # arr = [1, 3, 20,50, 4, 1, 0]\n",
    "        n=len(arr)\n",
    "\n",
    "        # ele=int(input())\n",
    "        res=peakele(arr,n)\n",
    "        print(res)\n",
    "        t=t-1\n",
    "if __name__=='__main__':\n",
    "    main()"
   ]
  },
  {
   "cell_type": "code",
   "execution_count": null,
   "metadata": {},
   "outputs": [],
   "source": []
  }
 ],
 "metadata": {
  "kernelspec": {
   "display_name": "Python 3.9.7 ('base')",
   "language": "python",
   "name": "python3"
  },
  "language_info": {
   "codemirror_mode": {
    "name": "ipython",
    "version": 3
   },
   "file_extension": ".py",
   "mimetype": "text/x-python",
   "name": "python",
   "nbconvert_exporter": "python",
   "pygments_lexer": "ipython3",
   "version": "3.9.7"
  },
  "orig_nbformat": 4,
  "vscode": {
   "interpreter": {
    "hash": "84129655c039cdc609eff4947a443e18daa48d29053ccc3d8283615438a60ab8"
   }
  }
 },
 "nbformat": 4,
 "nbformat_minor": 2
}
