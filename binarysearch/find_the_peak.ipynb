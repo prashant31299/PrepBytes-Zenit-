{
 "cells": [
  {
   "cell_type": "code",
   "execution_count": 27,
   "metadata": {},
   "outputs": [
    {
     "name": "stdout",
     "output_type": "stream",
     "text": [
      "0\n"
     ]
    }
   ],
   "source": [
    "def peakele(arr,n):\n",
    "    l = 0\n",
    "    r = n-1\n",
    "     \n",
    "    while(l <= r):\n",
    " \n",
    "        # finding mid by binary right shifting.\n",
    "        mid = (l + r) >> 1\n",
    " \n",
    "        # first case if mid is the answer\n",
    "        if((mid == 0 or arr[mid - 1] <= arr[mid]) and (mid == n - 1 or arr[mid + 1] <= arr[mid])):\n",
    "            break\n",
    " \n",
    "        # move the right pointer\n",
    "        if(mid > 0 and arr[mid - 1] > arr[mid]):\n",
    "            r = mid - 1\n",
    " \n",
    "        # move the left pointer\n",
    "        else:\n",
    "            l = mid + 1\n",
    " \n",
    "    return mid\n",
    "\n",
    "def main():\n",
    "    t=int(input())\n",
    "    while t>0:\n",
    "        n=int(input())\n",
    "\n",
    "        arr=list(map(int,input().split()))\n",
    "        # arr = [1, 3, 200,50, 4, 1, 0]\n",
    "        # arr = [1, 3, 20, 4, 1, 0]\n",
    "\n",
    "        # n=len(arr)/\n",
    "\n",
    "        # ele=int(input())\n",
    "        res=peakele(arr,n)\n",
    "        print(res)\n",
    "        t=t-1\n",
    "if __name__=='__main__':\n",
    "    main()"
   ]
  },
  {
   "cell_type": "code",
   "execution_count": null,
   "metadata": {},
   "outputs": [],
   "source": [
    "def peakele(arr,n):\n",
    "    l=0\n",
    "    h=n-1\n",
    "    while(l<=h):\n",
    "        m= l+(h-l)//2\n",
    "\n",
    "        if (m==0 or arr[m-1]<=arr[m] and m==n-1 or arr[m+1]<=arr[m]):\n",
    "            break\n",
    "        elif (m > 0 and arr[m-1] > arr[m]):\n",
    "            h=m-1\n",
    "        else:\n",
    "            l=m+1\n",
    "    return m\n",
    "\n",
    "def main():\n",
    "    t=int(input())\n",
    "    while t>0:\n",
    "        n=int(input())\n",
    "\n",
    "        arr=list(map(int,input().split()))\n",
    "        # arr = [1, 3, 200,50, 4, 1, 0]\n",
    "        # arr = [1, 3, 20, 4, 1, 0]\n",
    "\n",
    "        # n=len(arr)/\n",
    "\n",
    "        # ele=int(input())\n",
    "        res=peakele(arr,n)\n",
    "        print(res)\n",
    "        t=t-1\n",
    "if __name__=='__main__':\n",
    "    main()"
   ]
  }
 ],
 "metadata": {
  "kernelspec": {
   "display_name": "Python 3.9.7 ('base')",
   "language": "python",
   "name": "python3"
  },
  "language_info": {
   "codemirror_mode": {
    "name": "ipython",
    "version": 3
   },
   "file_extension": ".py",
   "mimetype": "text/x-python",
   "name": "python",
   "nbconvert_exporter": "python",
   "pygments_lexer": "ipython3",
   "version": "3.9.7"
  },
  "orig_nbformat": 4,
  "vscode": {
   "interpreter": {
    "hash": "84129655c039cdc609eff4947a443e18daa48d29053ccc3d8283615438a60ab8"
   }
  }
 },
 "nbformat": 4,
 "nbformat_minor": 2
}
