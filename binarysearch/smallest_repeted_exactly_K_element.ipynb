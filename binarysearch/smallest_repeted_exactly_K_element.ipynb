{
 "cells": [
  {
   "cell_type": "code",
   "execution_count": 14,
   "metadata": {},
   "outputs": [
    {
     "name": "stdout",
     "output_type": "stream",
     "text": [
      "5\n"
     ]
    }
   ],
   "source": [
    "# Python 3 program to find smallest\n",
    "# number in array that is repeated\n",
    "# exactly 'k' times.\n",
    "MAX = 1000\n",
    "\n",
    "def findDuplicate(arr, n, k):\n",
    "\n",
    "\t# Since arr[] has numbers in\n",
    "\t# range from 1 to MAX\n",
    "\tres = MAX + 1\n",
    "\t\n",
    "\tfor i in range(0, n):\n",
    "\t\tif (arr[i] > 0):\n",
    "\n",
    "\t\t\t# set count to 1 as number\n",
    "\t\t\t# is present once\n",
    "\t\t\tcount = 1\n",
    "\t\t\tfor j in range(i + 1, n):\n",
    "\t\t\t\tif (arr[i] == arr[j]):\n",
    "\t\t\t\t\tcount += 1\n",
    "\n",
    "\t\t\t# If frequency of number is equal to 'k'\n",
    "\t\t\tif (count == k):\n",
    "\t\t\t\tres = min(res, arr[i])\n",
    "\t\n",
    "\treturn res\n",
    "\n",
    "# Driver code\n",
    "arr = [44,3,3,5,5,5,2,2]\n",
    "k = 3\n",
    "\n",
    "n = len(arr)\n",
    "print(findDuplicate(arr, n, k))\n",
    "\n",
    "# This code is contributed by Smitha Dinesh Semwal.\n"
   ]
  },
  {
   "cell_type": "code",
   "execution_count": 2,
   "metadata": {},
   "outputs": [
    {
     "name": "stdout",
     "output_type": "stream",
     "text": [
      "2\n"
     ]
    }
   ],
   "source": [
    "def smallest(arr,n,k):\n",
    "  res=100\n",
    "  for i in range(0,n):\n",
    "    if arr[i] >0:\n",
    "      \n",
    "      count =1\n",
    "      for j in range(i+1,n):\n",
    "        if arr[i]==arr[j]:\n",
    "          count +=1\n",
    "          \n",
    "        if count==k:\n",
    "          res=min(res,arr[i])\n",
    "  return res\n",
    "  \n",
    "def main():\n",
    "  n=int(input())\n",
    "  arr=list(map(int,input().split()))\n",
    "  ele=int(input())\n",
    "  re=smallest(arr,n,ele)\n",
    "  print(re)\n",
    "if __name__=='__main__':\n",
    "    main()"
   ]
  },
  {
   "cell_type": "code",
   "execution_count": 3,
   "metadata": {},
   "outputs": [
    {
     "name": "stdout",
     "output_type": "stream",
     "text": [
      "1\n"
     ]
    }
   ],
   "source": [
    "# Python program to find smallest number\n",
    "# in array that is repeated exactly\n",
    "# 'k' times.\n",
    "\n",
    "def findDuplicate(arr, n, k):\n",
    "\t\n",
    "\t# Sort the array\n",
    "\tarr.sort()\n",
    "\n",
    "\t# Find the first element with exactly\n",
    "\t# k occurrences.\n",
    "\ti = 0\n",
    "\twhile (i < n):\n",
    "\t\tj, count = i + 1, 1\n",
    "\t\twhile (j < n and arr[j] == arr[i]):\n",
    "\t\t\tcount += 1\n",
    "\t\t\tj += 1\n",
    "\n",
    "\t\tif (count == k):\n",
    "\t\t\treturn arr[i]\n",
    "\n",
    "\t\ti = j\n",
    "\t\t\n",
    "\treturn -1\n",
    "\n",
    "# Driver code\n",
    "def main():\n",
    "  n=int(input())\n",
    "  arr=list(map(int,input().split()))\n",
    "  ele=int(input())\n",
    "  re=smallest(arr,n,ele)\n",
    "  print(re)\n",
    "if __name__=='__main__':\n",
    "    main()\n",
    "\n",
    "# This code is contributed by Sachin Bisht\n"
   ]
  },
  {
   "cell_type": "code",
   "execution_count": null,
   "metadata": {},
   "outputs": [],
   "source": []
  }
 ],
 "metadata": {
  "kernelspec": {
   "display_name": "Python 3.9.7 ('base')",
   "language": "python",
   "name": "python3"
  },
  "language_info": {
   "codemirror_mode": {
    "name": "ipython",
    "version": 3
   },
   "file_extension": ".py",
   "mimetype": "text/x-python",
   "name": "python",
   "nbconvert_exporter": "python",
   "pygments_lexer": "ipython3",
   "version": "3.9.7"
  },
  "orig_nbformat": 4,
  "vscode": {
   "interpreter": {
    "hash": "84129655c039cdc609eff4947a443e18daa48d29053ccc3d8283615438a60ab8"
   }
  }
 },
 "nbformat": 4,
 "nbformat_minor": 2
}
