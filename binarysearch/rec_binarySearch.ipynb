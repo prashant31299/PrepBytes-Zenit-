{
 "cells": [
  {
   "cell_type": "code",
   "execution_count": 10,
   "metadata": {},
   "outputs": [
    {
     "name": "stdout",
     "output_type": "stream",
     "text": [
      "-1\n"
     ]
    }
   ],
   "source": [
    "def recbinary(arr,low,high,t):\n",
    "    if (low >high):\n",
    "        return -1\n",
    "\n",
    "    mid =low +(high-low) //2\n",
    "\n",
    "    if arr[mid]==t:\n",
    "        return mid\n",
    "\n",
    "    if (t > arr[mid]):\n",
    "        return recbinary(arr,mid+1,high,t)\n",
    "    else:\n",
    "        return recbinary(arr,low,mid-1,t)\n",
    "def main():\n",
    "    t=int(input())\n",
    "    while t>0:\n",
    "        n=int(input())\n",
    "        arr=list(map(int,input().split()))\n",
    "        target=int(input())\n",
    "        res=recbinary(arr,0,n-1,target)\n",
    "        print(res)\n",
    "        t=t-1\n",
    "main()"
   ]
  },
  {
   "cell_type": "code",
   "execution_count": 15,
   "metadata": {},
   "outputs": [
    {
     "data": {
      "text/plain": [
       "-1"
      ]
     },
     "execution_count": 15,
     "metadata": {},
     "output_type": "execute_result"
    }
   ],
   "source": [
    "def recBinarys(arr,l,h,t):\n",
    "    if l>h:\n",
    "        return-1\n",
    "\n",
    "    mid=l+(h-l)//2\n",
    "    if arr[mid] == t:\n",
    "        return mid\n",
    "    if arr[mid]<t:\n",
    "        return recBinarys(arr,mid+1,h,t)\n",
    "    else:\n",
    "        return recBinarys(arr,l,mid-1,t)\n",
    "\n",
    "arr=[1,2 ,3,4,5,6]\n",
    "recBinarys(arr,0,len(arr)-1,0)"
   ]
  },
  {
   "cell_type": "code",
   "execution_count": null,
   "metadata": {},
   "outputs": [],
   "source": []
  }
 ],
 "metadata": {
  "kernelspec": {
   "display_name": "Python 3.9.7 ('base')",
   "language": "python",
   "name": "python3"
  },
  "language_info": {
   "codemirror_mode": {
    "name": "ipython",
    "version": 3
   },
   "file_extension": ".py",
   "mimetype": "text/x-python",
   "name": "python",
   "nbconvert_exporter": "python",
   "pygments_lexer": "ipython3",
   "version": "3.9.7"
  },
  "orig_nbformat": 4,
  "vscode": {
   "interpreter": {
    "hash": "84129655c039cdc609eff4947a443e18daa48d29053ccc3d8283615438a60ab8"
   }
  }
 },
 "nbformat": 4,
 "nbformat_minor": 2
}
