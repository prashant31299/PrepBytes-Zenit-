{
 "cells": [
  {
   "cell_type": "code",
   "execution_count": 7,
   "metadata": {},
   "outputs": [
    {
     "name": "stdout",
     "output_type": "stream",
     "text": [
      "3\n",
      "7\n",
      "8\n",
      "9\n"
     ]
    }
   ],
   "source": [
    "def NumCocolate(arr,n,ele):\n",
    "    l=0\n",
    "    h=n\n",
    "    while(l<h):\n",
    "        mid=(l+h)//2\n",
    "        if ele >=arr[mid]:\n",
    "            l=mid+1\n",
    "        else:\n",
    "            h=mid\n",
    "    return l\n",
    "    \n",
    "\n",
    "def main():\n",
    "    n=int(input())\n",
    "    arr=list(map(int,input().split()))\n",
    "    q=int(input())\n",
    "    while(q>0):\n",
    "        x=int(input())\n",
    "        res=NumCocolate(arr,n,x)\n",
    "        print(res)\n",
    "        q=q-1\n",
    "\n",
    "if __name__=='__main__':\n",
    "    main()\n"
   ]
  },
  {
   "cell_type": "code",
   "execution_count": null,
   "metadata": {},
   "outputs": [],
   "source": []
  }
 ],
 "metadata": {
  "kernelspec": {
   "display_name": "Python 3.9.7 ('base')",
   "language": "python",
   "name": "python3"
  },
  "language_info": {
   "codemirror_mode": {
    "name": "ipython",
    "version": 3
   },
   "file_extension": ".py",
   "mimetype": "text/x-python",
   "name": "python",
   "nbconvert_exporter": "python",
   "pygments_lexer": "ipython3",
   "version": "3.9.7"
  },
  "orig_nbformat": 4,
  "vscode": {
   "interpreter": {
    "hash": "84129655c039cdc609eff4947a443e18daa48d29053ccc3d8283615438a60ab8"
   }
  }
 },
 "nbformat": 4,
 "nbformat_minor": 2
}
